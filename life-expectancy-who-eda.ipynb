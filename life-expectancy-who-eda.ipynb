{
 "cells": [
  {
   "cell_type": "code",
   "execution_count": 1,
   "id": "efbdf868",
   "metadata": {
    "_cell_guid": "b1076dfc-b9ad-4769-8c92-a6c4dae69d19",
    "_uuid": "8f2839f25d086af736a60e9eeb907d3b93b6e0e5",
    "execution": {
     "iopub.execute_input": "2022-02-27T06:46:31.337220Z",
     "iopub.status.busy": "2022-02-27T06:46:31.336356Z",
     "iopub.status.idle": "2022-02-27T06:46:31.357522Z",
     "shell.execute_reply": "2022-02-27T06:46:31.356666Z",
     "shell.execute_reply.started": "2022-02-27T04:13:13.565973Z"
    },
    "papermill": {
     "duration": 0.114973,
     "end_time": "2022-02-27T06:46:31.357714",
     "exception": false,
     "start_time": "2022-02-27T06:46:31.242741",
     "status": "completed"
    },
    "tags": []
   },
   "outputs": [
    {
     "name": "stdout",
     "output_type": "stream",
     "text": [
      "/kaggle/input/immunizationdata/immunitizationData.csv\n",
      "/kaggle/input/countrydata/countryData.csv\n"
     ]
    }
   ],
   "source": [
    "# This Python 3 environment comes with many helpful analytics libraries installed\n",
    "# It is defined by the kaggle/python Docker image: https://github.com/kaggle/docker-python\n",
    "# For example, here's several helpful packages to load\n",
    "\n",
    "import numpy as np # linear algebra\n",
    "import pandas as pd # data processing, CSV file I/O (e.g. pd.read_csv)\n",
    "\n",
    "# Input data files are available in the read-only \"../input/\" directory\n",
    "# For example, running this (by clicking run or pressing Shift+Enter) will list all files under the input directory\n",
    "\n",
    "import os\n",
    "for dirname, _, filenames in os.walk('/kaggle/input'):\n",
    "    for filename in filenames:\n",
    "        print(os.path.join(dirname, filename))\n",
    "\n",
    "# You can write up to 20GB to the current directory (/kaggle/working/) that gets preserved as output when you create a version using \"Save & Run All\" \n",
    "# You can also write temporary files to /kaggle/temp/, but they won't be saved outside of the current session"
   ]
  },
  {
   "cell_type": "markdown",
   "id": "f449ff2b",
   "metadata": {
    "papermill": {
     "duration": 0.076384,
     "end_time": "2022-02-27T06:46:31.512355",
     "exception": false,
     "start_time": "2022-02-27T06:46:31.435971",
     "status": "completed"
    },
    "tags": []
   },
   "source": [
    "# Python Project – Life Expectancy\n",
    "\n",
    "## Business Case: \n",
    "\n",
    "The Global Health Observatory (GHO) data repository under World Health Organization (WHO) keeps track of the health status as well as many other related factors for all countries. The data-set related to life expectancy, health factors for 193 countries has been collected from the same WHO data repository website and its corresponding economic data was collected from the United Nation website.  It has been observed that in the past 15 years, there has been a huge development in the health sector resulting in improvement of human mortality rates especially in the developing nations in comparison to the past 30 years. \n",
    "WHO has vast data for various verticals that can help humans to strive and survive under extreme conditions. You have been hired as a Data Analyst to  find the hidden key insights that can solve critical questions and provide a solution.\n",
    "\n",
    "\n",
    "## Problem Statement: \n",
    "\n",
    "\n",
    "Health plays a vital role in deciding the Life Expectancy. People all over the world pay a lot to insurance companies to secure the finance, if there is a health emergency.  It becomes very important to know how much countries are spending on health facilities out of the total expenses. \n",
    "Your role is to draw insights on the countries and their expenses pattern. \n",
    "What are the health conditions in the country that are spending more or less on the health facilities?\n",
    "These solutions can play a critical role in regards to human survival. \n",
    "Through the chain of scenarios designed, you will be able to solve problems and follow the process that real Data Analysts perform. \n"
   ]
  },
  {
   "cell_type": "markdown",
   "id": "ad5e687f",
   "metadata": {
    "papermill": {
     "duration": 0.076629,
     "end_time": "2022-02-27T06:46:31.666822",
     "exception": false,
     "start_time": "2022-02-27T06:46:31.590193",
     "status": "completed"
    },
    "tags": []
   },
   "source": [
    "## Dataset Description:\n",
    "1.\tcountryData – file showing the metrics of the country with important parameters.\n",
    "2.\timmunitizationData – file showing sickness factors of the country.  \n",
    "\n",
    "\n",
    "#### countryData\n",
    "\n",
    "Column Name\tData Type\tDescription\n",
    "Country\tCategorical\t Country name\n",
    "Year\tDiscrete\t Year\n",
    "Status\tCategorical\t Status of the given country (Either Developing or Developed)\n",
    "Life expectancy\tContinuous\t in years\n",
    "Adult Mortality\tContinuous\t Adult Mortality Rates of both sexes (probability of dying between 15 and 60 years per 1000 population)\n",
    "Alcohol\tContinuous\t Alcohol, recorded per capita (15+) consumption (in litres of pure alcohol)\n",
    "Percentage expenditure\tContinuous\t Expenditure on health as a percentage of Gross Domestic Product per capita (%)\n",
    "Total expenditure\tContinuous\t General government expenditure on health as a percentage of total government expenditure (%)\n",
    "GDP\tContinuous\t Gross Domestic Product per capita (in USD)\n",
    "Population\tContinuous\t Population of the country\n",
    "thinness 1 - 19 years\tContinuous\t Prevalence of thinness among children and adolescents for Age 10 to 19 (% )\n",
    "thinness 5 - 9 years\tContinuous\t Prevalence of thinness among children for Age 5 to 9(%)\n",
    "Income composition of resources\tContinuous\t Human Development Index in terms of income composition of resources (index ranging from 0 to 1)\n",
    "Schooling\tContinuous\t Number of years of Schooling(years)\n",
    "\n",
    "#### immunitizationData\n",
    "\n",
    "Column Name\tData Type\tDescription\n",
    "Country\tCategorical\t Country name\n",
    "Year\tDiscrete\t Year\n",
    "Infant deaths\tContinuous\t Number of Infant Deaths per 1000 population\n",
    "Hepatitis B\tContinuous\t Hepatitis B (HepB) immunization coverage among 1 - year olds (%)\n",
    "Measles\tContinuous\t Measles  number of reported cases per 1000 population\n",
    "BMI\tContinuous\t Average Body Mass Index of entire population\n",
    "Under five death\tContinuous\t Number of under - five deaths per 1000 population\n",
    "Polio\tContinuous\t Polio (Pol3) immunization coverage among 1 - year olds (%)\n",
    "Diphtheria\tContinuous\t Diphtheria tetanus toxoid and pertussis (DTP3) immunization coverage among 1 - year olds (%)\n",
    "HIV/AID\tContinuous\t Deaths per 1 000 live births HIV/AIDS (0 - 4 years)\n"
   ]
  },
  {
   "cell_type": "markdown",
   "id": "807b3b1a",
   "metadata": {
    "papermill": {
     "duration": 0.076938,
     "end_time": "2022-02-27T06:46:31.821949",
     "exception": false,
     "start_time": "2022-02-27T06:46:31.745011",
     "status": "completed"
    },
    "tags": []
   },
   "source": [
    "# Scenario 1:\n",
    "You have been given the required dataset by the WHO to help the countries know about their health status, as well as, help individuals to get prepared with the upcoming problems. There are 2 datasets available which are present in csv format and you have to explore it, align it if it is not in structured format.\n",
    "\n",
    "**Task 1:** \n",
    "\n",
    "●\tImport the libraries numpy, pandas, Matplotlib and seaborn that are going to be used for data exploration. \n",
    "\n",
    "●\tCall the two datasets using python and save them under the variable name df1 for “countryData” and df2 for “immunitizationData”. \n",
    "\n",
    "●\tView the top 3 rows of both datasets."
   ]
  },
  {
   "cell_type": "code",
   "execution_count": 2,
   "id": "d9017d4e",
   "metadata": {
    "execution": {
     "iopub.execute_input": "2022-02-27T06:46:31.987194Z",
     "iopub.status.busy": "2022-02-27T06:46:31.986454Z",
     "iopub.status.idle": "2022-02-27T06:46:33.083085Z",
     "shell.execute_reply": "2022-02-27T06:46:33.082346Z",
     "shell.execute_reply.started": "2022-02-27T04:13:13.579184Z"
    },
    "papermill": {
     "duration": 1.179176,
     "end_time": "2022-02-27T06:46:33.083239",
     "exception": false,
     "start_time": "2022-02-27T06:46:31.904063",
     "status": "completed"
    },
    "tags": []
   },
   "outputs": [],
   "source": [
    "import pandas as pd\n",
    "import numpy as np\n",
    "import matplotlib.pyplot as plt\n",
    "import seaborn as sns"
   ]
  },
  {
   "cell_type": "code",
   "execution_count": 3,
   "id": "1cc2f474",
   "metadata": {
    "execution": {
     "iopub.execute_input": "2022-02-27T06:46:33.245317Z",
     "iopub.status.busy": "2022-02-27T06:46:33.244494Z",
     "iopub.status.idle": "2022-02-27T06:46:33.290215Z",
     "shell.execute_reply": "2022-02-27T06:46:33.289617Z",
     "shell.execute_reply.started": "2022-02-27T04:13:13.599278Z"
    },
    "papermill": {
     "duration": 0.129244,
     "end_time": "2022-02-27T06:46:33.290378",
     "exception": false,
     "start_time": "2022-02-27T06:46:33.161134",
     "status": "completed"
    },
    "tags": []
   },
   "outputs": [],
   "source": [
    "df1 = pd.read_csv('../input/countrydata/countryData.csv')\n",
    "df2 = pd.read_csv('../input/immunizationdata/immunitizationData.csv')"
   ]
  },
  {
   "cell_type": "code",
   "execution_count": 4,
   "id": "678cfdb9",
   "metadata": {
    "execution": {
     "iopub.execute_input": "2022-02-27T06:46:33.456784Z",
     "iopub.status.busy": "2022-02-27T06:46:33.456095Z",
     "iopub.status.idle": "2022-02-27T06:46:33.478846Z",
     "shell.execute_reply": "2022-02-27T06:46:33.479408Z",
     "shell.execute_reply.started": "2022-02-27T04:13:13.633793Z"
    },
    "papermill": {
     "duration": 0.110114,
     "end_time": "2022-02-27T06:46:33.479582",
     "exception": false,
     "start_time": "2022-02-27T06:46:33.369468",
     "status": "completed"
    },
    "tags": []
   },
   "outputs": [
    {
     "data": {
      "text/html": [
       "<div>\n",
       "<style scoped>\n",
       "    .dataframe tbody tr th:only-of-type {\n",
       "        vertical-align: middle;\n",
       "    }\n",
       "\n",
       "    .dataframe tbody tr th {\n",
       "        vertical-align: top;\n",
       "    }\n",
       "\n",
       "    .dataframe thead th {\n",
       "        text-align: right;\n",
       "    }\n",
       "</style>\n",
       "<table border=\"1\" class=\"dataframe\">\n",
       "  <thead>\n",
       "    <tr style=\"text-align: right;\">\n",
       "      <th></th>\n",
       "      <th>Country</th>\n",
       "      <th>Year</th>\n",
       "      <th>Status</th>\n",
       "      <th>Life expectancy</th>\n",
       "      <th>Adult Mortality</th>\n",
       "      <th>Alcohol</th>\n",
       "      <th>percentage expenditure</th>\n",
       "      <th>Total expenditure</th>\n",
       "      <th>GDP</th>\n",
       "      <th>Population</th>\n",
       "      <th>thinness  1-19 years</th>\n",
       "      <th>thinness 5-9 years</th>\n",
       "      <th>Income composition of resources</th>\n",
       "      <th>Schooling</th>\n",
       "    </tr>\n",
       "  </thead>\n",
       "  <tbody>\n",
       "    <tr>\n",
       "      <th>0</th>\n",
       "      <td>Afghanistan</td>\n",
       "      <td>2015</td>\n",
       "      <td>Developing</td>\n",
       "      <td>65.0</td>\n",
       "      <td>263.0</td>\n",
       "      <td>0.01</td>\n",
       "      <td>71.279624</td>\n",
       "      <td>8.16</td>\n",
       "      <td>584.259210</td>\n",
       "      <td>33736494.0</td>\n",
       "      <td>17.2</td>\n",
       "      <td>17.3</td>\n",
       "      <td>0.479</td>\n",
       "      <td>10.1</td>\n",
       "    </tr>\n",
       "    <tr>\n",
       "      <th>1</th>\n",
       "      <td>Afghanistan</td>\n",
       "      <td>2014</td>\n",
       "      <td>Developing</td>\n",
       "      <td>59.9</td>\n",
       "      <td>271.0</td>\n",
       "      <td>0.01</td>\n",
       "      <td>73.523582</td>\n",
       "      <td>8.18</td>\n",
       "      <td>612.696514</td>\n",
       "      <td>327582.0</td>\n",
       "      <td>17.5</td>\n",
       "      <td>17.5</td>\n",
       "      <td>0.476</td>\n",
       "      <td>10.0</td>\n",
       "    </tr>\n",
       "    <tr>\n",
       "      <th>2</th>\n",
       "      <td>Afghanistan</td>\n",
       "      <td>2013</td>\n",
       "      <td>Developing</td>\n",
       "      <td>59.9</td>\n",
       "      <td>268.0</td>\n",
       "      <td>0.01</td>\n",
       "      <td>73.219243</td>\n",
       "      <td>8.13</td>\n",
       "      <td>631.744976</td>\n",
       "      <td>31731688.0</td>\n",
       "      <td>17.7</td>\n",
       "      <td>17.7</td>\n",
       "      <td>0.470</td>\n",
       "      <td>9.9</td>\n",
       "    </tr>\n",
       "  </tbody>\n",
       "</table>\n",
       "</div>"
      ],
      "text/plain": [
       "       Country  Year      Status  Life expectancy   Adult Mortality  Alcohol  \\\n",
       "0  Afghanistan  2015  Developing              65.0            263.0     0.01   \n",
       "1  Afghanistan  2014  Developing              59.9            271.0     0.01   \n",
       "2  Afghanistan  2013  Developing              59.9            268.0     0.01   \n",
       "\n",
       "   percentage expenditure  Total expenditure         GDP  Population  \\\n",
       "0               71.279624               8.16  584.259210  33736494.0   \n",
       "1               73.523582               8.18  612.696514    327582.0   \n",
       "2               73.219243               8.13  631.744976  31731688.0   \n",
       "\n",
       "    thinness  1-19 years   thinness 5-9 years  \\\n",
       "0                   17.2                 17.3   \n",
       "1                   17.5                 17.5   \n",
       "2                   17.7                 17.7   \n",
       "\n",
       "   Income composition of resources  Schooling  \n",
       "0                            0.479       10.1  \n",
       "1                            0.476       10.0  \n",
       "2                            0.470        9.9  "
      ]
     },
     "execution_count": 4,
     "metadata": {},
     "output_type": "execute_result"
    }
   ],
   "source": [
    "df1.head(3)"
   ]
  },
  {
   "cell_type": "code",
   "execution_count": 5,
   "id": "c919dc4d",
   "metadata": {
    "execution": {
     "iopub.execute_input": "2022-02-27T06:46:33.637755Z",
     "iopub.status.busy": "2022-02-27T06:46:33.637118Z",
     "iopub.status.idle": "2022-02-27T06:46:33.651263Z",
     "shell.execute_reply": "2022-02-27T06:46:33.651942Z",
     "shell.execute_reply.started": "2022-02-27T04:13:13.654629Z"
    },
    "papermill": {
     "duration": 0.095228,
     "end_time": "2022-02-27T06:46:33.652120",
     "exception": false,
     "start_time": "2022-02-27T06:46:33.556892",
     "status": "completed"
    },
    "tags": []
   },
   "outputs": [
    {
     "data": {
      "text/html": [
       "<div>\n",
       "<style scoped>\n",
       "    .dataframe tbody tr th:only-of-type {\n",
       "        vertical-align: middle;\n",
       "    }\n",
       "\n",
       "    .dataframe tbody tr th {\n",
       "        vertical-align: top;\n",
       "    }\n",
       "\n",
       "    .dataframe thead th {\n",
       "        text-align: right;\n",
       "    }\n",
       "</style>\n",
       "<table border=\"1\" class=\"dataframe\">\n",
       "  <thead>\n",
       "    <tr style=\"text-align: right;\">\n",
       "      <th></th>\n",
       "      <th>Country</th>\n",
       "      <th>Year</th>\n",
       "      <th>infant deaths</th>\n",
       "      <th>Hepatitis B</th>\n",
       "      <th>Measles</th>\n",
       "      <th>BMI</th>\n",
       "      <th>under-five deaths</th>\n",
       "      <th>Polio</th>\n",
       "      <th>Diphtheria</th>\n",
       "      <th>HIV/AIDS</th>\n",
       "    </tr>\n",
       "  </thead>\n",
       "  <tbody>\n",
       "    <tr>\n",
       "      <th>0</th>\n",
       "      <td>Afghanistan</td>\n",
       "      <td>2015</td>\n",
       "      <td>62</td>\n",
       "      <td>65.0</td>\n",
       "      <td>1154</td>\n",
       "      <td>19.1</td>\n",
       "      <td>83</td>\n",
       "      <td>6.0</td>\n",
       "      <td>65.0</td>\n",
       "      <td>0.1</td>\n",
       "    </tr>\n",
       "    <tr>\n",
       "      <th>1</th>\n",
       "      <td>Afghanistan</td>\n",
       "      <td>2014</td>\n",
       "      <td>64</td>\n",
       "      <td>62.0</td>\n",
       "      <td>492</td>\n",
       "      <td>18.6</td>\n",
       "      <td>86</td>\n",
       "      <td>58.0</td>\n",
       "      <td>62.0</td>\n",
       "      <td>0.1</td>\n",
       "    </tr>\n",
       "    <tr>\n",
       "      <th>2</th>\n",
       "      <td>Afghanistan</td>\n",
       "      <td>2013</td>\n",
       "      <td>66</td>\n",
       "      <td>64.0</td>\n",
       "      <td>430</td>\n",
       "      <td>18.1</td>\n",
       "      <td>89</td>\n",
       "      <td>62.0</td>\n",
       "      <td>64.0</td>\n",
       "      <td>0.1</td>\n",
       "    </tr>\n",
       "  </tbody>\n",
       "</table>\n",
       "</div>"
      ],
      "text/plain": [
       "       Country  Year  infant deaths  Hepatitis B  Measles    BMI   \\\n",
       "0  Afghanistan  2015             62         65.0      1154   19.1   \n",
       "1  Afghanistan  2014             64         62.0       492   18.6   \n",
       "2  Afghanistan  2013             66         64.0       430   18.1   \n",
       "\n",
       "   under-five deaths   Polio  Diphtheria    HIV/AIDS  \n",
       "0                  83    6.0         65.0        0.1  \n",
       "1                  86   58.0         62.0        0.1  \n",
       "2                  89   62.0         64.0        0.1  "
      ]
     },
     "execution_count": 5,
     "metadata": {},
     "output_type": "execute_result"
    }
   ],
   "source": [
    "df2.head(3)"
   ]
  },
  {
   "cell_type": "markdown",
   "id": "10c0d672",
   "metadata": {
    "papermill": {
     "duration": 0.077584,
     "end_time": "2022-02-27T06:46:33.807887",
     "exception": false,
     "start_time": "2022-02-27T06:46:33.730303",
     "status": "completed"
    },
    "tags": []
   },
   "source": [
    "**Task 2:**\n",
    "\n",
    "When the dataset is loaded successfully, the first and foremost job of a Data Analyst is to get clarity on the structure of the dataset. To get this information we will do basic exploration, follow below steps;\n",
    "\n",
    "●\tOnce the dataset is called, understanding the feature names becomes important. Show the feature names for both the datasets\n",
    "\n",
    "●\tWhat are the dimensions for both the dataset?\n",
    "\n",
    "●\tConsidering you have created the datasets. to apply any operation on a feature you need to understand its datatype. \n",
    "Show the datatypes of each column? "
   ]
  },
  {
   "cell_type": "code",
   "execution_count": 6,
   "id": "998ceed6",
   "metadata": {
    "execution": {
     "iopub.execute_input": "2022-02-27T06:46:33.968614Z",
     "iopub.status.busy": "2022-02-27T06:46:33.967920Z",
     "iopub.status.idle": "2022-02-27T06:46:33.973720Z",
     "shell.execute_reply": "2022-02-27T06:46:33.974390Z",
     "shell.execute_reply.started": "2022-02-27T04:13:13.685403Z"
    },
    "papermill": {
     "duration": 0.08803,
     "end_time": "2022-02-27T06:46:33.974565",
     "exception": false,
     "start_time": "2022-02-27T06:46:33.886535",
     "status": "completed"
    },
    "tags": []
   },
   "outputs": [
    {
     "data": {
      "text/plain": [
       "Index(['Country', 'Year', 'Status', 'Life expectancy ', 'Adult Mortality',\n",
       "       'Alcohol', 'percentage expenditure', 'Total expenditure', 'GDP',\n",
       "       'Population', ' thinness  1-19 years', ' thinness 5-9 years',\n",
       "       'Income composition of resources', 'Schooling'],\n",
       "      dtype='object')"
      ]
     },
     "execution_count": 6,
     "metadata": {},
     "output_type": "execute_result"
    }
   ],
   "source": [
    "df1.columns"
   ]
  },
  {
   "cell_type": "code",
   "execution_count": 7,
   "id": "f119f624",
   "metadata": {
    "execution": {
     "iopub.execute_input": "2022-02-27T06:46:34.134162Z",
     "iopub.status.busy": "2022-02-27T06:46:34.133416Z",
     "iopub.status.idle": "2022-02-27T06:46:34.139056Z",
     "shell.execute_reply": "2022-02-27T06:46:34.139606Z",
     "shell.execute_reply.started": "2022-02-27T04:13:13.707810Z"
    },
    "papermill": {
     "duration": 0.086812,
     "end_time": "2022-02-27T06:46:34.139779",
     "exception": false,
     "start_time": "2022-02-27T06:46:34.052967",
     "status": "completed"
    },
    "tags": []
   },
   "outputs": [
    {
     "data": {
      "text/plain": [
       "Index(['Country', 'Year', 'infant deaths', 'Hepatitis B', 'Measles ', ' BMI ',\n",
       "       'under-five deaths ', 'Polio', 'Diphtheria ', ' HIV/AIDS'],\n",
       "      dtype='object')"
      ]
     },
     "execution_count": 7,
     "metadata": {},
     "output_type": "execute_result"
    }
   ],
   "source": [
    "df2.columns"
   ]
  },
  {
   "cell_type": "code",
   "execution_count": 8,
   "id": "0881d451",
   "metadata": {
    "execution": {
     "iopub.execute_input": "2022-02-27T06:46:34.300022Z",
     "iopub.status.busy": "2022-02-27T06:46:34.299359Z",
     "iopub.status.idle": "2022-02-27T06:46:34.303516Z",
     "shell.execute_reply": "2022-02-27T06:46:34.304208Z",
     "shell.execute_reply.started": "2022-02-27T04:13:13.728103Z"
    },
    "papermill": {
     "duration": 0.08575,
     "end_time": "2022-02-27T06:46:34.304397",
     "exception": false,
     "start_time": "2022-02-27T06:46:34.218647",
     "status": "completed"
    },
    "tags": []
   },
   "outputs": [
    {
     "name": "stdout",
     "output_type": "stream",
     "text": [
      "(2938, 14)\n",
      "(2938, 10)\n"
     ]
    }
   ],
   "source": [
    "print(df1.shape)\n",
    "print(df2.shape)"
   ]
  },
  {
   "cell_type": "code",
   "execution_count": 9,
   "id": "c6dd3b7a",
   "metadata": {
    "execution": {
     "iopub.execute_input": "2022-02-27T06:46:34.467037Z",
     "iopub.status.busy": "2022-02-27T06:46:34.466340Z",
     "iopub.status.idle": "2022-02-27T06:46:34.473056Z",
     "shell.execute_reply": "2022-02-27T06:46:34.473633Z",
     "shell.execute_reply.started": "2022-02-27T04:13:13.748115Z"
    },
    "papermill": {
     "duration": 0.09009,
     "end_time": "2022-02-27T06:46:34.473829",
     "exception": false,
     "start_time": "2022-02-27T06:46:34.383739",
     "status": "completed"
    },
    "tags": []
   },
   "outputs": [
    {
     "data": {
      "text/plain": [
       "Country                             object\n",
       "Year                                 int64\n",
       "Status                              object\n",
       "Life expectancy                    float64\n",
       "Adult Mortality                    float64\n",
       "Alcohol                            float64\n",
       "percentage expenditure             float64\n",
       "Total expenditure                  float64\n",
       "GDP                                float64\n",
       "Population                         float64\n",
       " thinness  1-19 years              float64\n",
       " thinness 5-9 years                float64\n",
       "Income composition of resources    float64\n",
       "Schooling                          float64\n",
       "dtype: object"
      ]
     },
     "execution_count": 9,
     "metadata": {},
     "output_type": "execute_result"
    }
   ],
   "source": [
    "df1.dtypes"
   ]
  },
  {
   "cell_type": "code",
   "execution_count": 10,
   "id": "fabf6312",
   "metadata": {
    "execution": {
     "iopub.execute_input": "2022-02-27T06:46:34.639429Z",
     "iopub.status.busy": "2022-02-27T06:46:34.638756Z",
     "iopub.status.idle": "2022-02-27T06:46:34.644856Z",
     "shell.execute_reply": "2022-02-27T06:46:34.645425Z",
     "shell.execute_reply.started": "2022-02-27T04:13:13.771675Z"
    },
    "papermill": {
     "duration": 0.091276,
     "end_time": "2022-02-27T06:46:34.645601",
     "exception": false,
     "start_time": "2022-02-27T06:46:34.554325",
     "status": "completed"
    },
    "tags": []
   },
   "outputs": [
    {
     "data": {
      "text/plain": [
       "Country                object\n",
       "Year                    int64\n",
       "infant deaths           int64\n",
       "Hepatitis B           float64\n",
       "Measles                 int64\n",
       " BMI                  float64\n",
       "under-five deaths       int64\n",
       "Polio                 float64\n",
       "Diphtheria            float64\n",
       " HIV/AIDS             float64\n",
       "dtype: object"
      ]
     },
     "execution_count": 10,
     "metadata": {},
     "output_type": "execute_result"
    }
   ],
   "source": [
    "df2.dtypes"
   ]
  },
  {
   "cell_type": "code",
   "execution_count": 11,
   "id": "07f984a2",
   "metadata": {
    "execution": {
     "iopub.execute_input": "2022-02-27T06:46:34.808364Z",
     "iopub.status.busy": "2022-02-27T06:46:34.807709Z",
     "iopub.status.idle": "2022-02-27T06:46:34.833425Z",
     "shell.execute_reply": "2022-02-27T06:46:34.834146Z",
     "shell.execute_reply.started": "2022-02-27T04:13:13.798353Z"
    },
    "papermill": {
     "duration": 0.109352,
     "end_time": "2022-02-27T06:46:34.834392",
     "exception": false,
     "start_time": "2022-02-27T06:46:34.725040",
     "status": "completed"
    },
    "tags": []
   },
   "outputs": [
    {
     "name": "stdout",
     "output_type": "stream",
     "text": [
      "<class 'pandas.core.frame.DataFrame'>\n",
      "RangeIndex: 2938 entries, 0 to 2937\n",
      "Data columns (total 14 columns):\n",
      " #   Column                           Non-Null Count  Dtype  \n",
      "---  ------                           --------------  -----  \n",
      " 0   Country                          2938 non-null   object \n",
      " 1   Year                             2938 non-null   int64  \n",
      " 2   Status                           2938 non-null   object \n",
      " 3   Life expectancy                  2928 non-null   float64\n",
      " 4   Adult Mortality                  2928 non-null   float64\n",
      " 5   Alcohol                          2744 non-null   float64\n",
      " 6   percentage expenditure           2938 non-null   float64\n",
      " 7   Total expenditure                2712 non-null   float64\n",
      " 8   GDP                              2490 non-null   float64\n",
      " 9   Population                       2286 non-null   float64\n",
      " 10   thinness  1-19 years            2904 non-null   float64\n",
      " 11   thinness 5-9 years              2904 non-null   float64\n",
      " 12  Income composition of resources  2771 non-null   float64\n",
      " 13  Schooling                        2775 non-null   float64\n",
      "dtypes: float64(11), int64(1), object(2)\n",
      "memory usage: 321.5+ KB\n"
     ]
    }
   ],
   "source": [
    "df1.info()"
   ]
  },
  {
   "cell_type": "code",
   "execution_count": 12,
   "id": "86f28acc",
   "metadata": {
    "execution": {
     "iopub.execute_input": "2022-02-27T06:46:34.999664Z",
     "iopub.status.busy": "2022-02-27T06:46:34.998995Z",
     "iopub.status.idle": "2022-02-27T06:46:35.011091Z",
     "shell.execute_reply": "2022-02-27T06:46:35.011709Z",
     "shell.execute_reply.started": "2022-02-27T04:13:13.823895Z"
    },
    "papermill": {
     "duration": 0.095785,
     "end_time": "2022-02-27T06:46:35.011902",
     "exception": false,
     "start_time": "2022-02-27T06:46:34.916117",
     "status": "completed"
    },
    "tags": []
   },
   "outputs": [
    {
     "name": "stdout",
     "output_type": "stream",
     "text": [
      "<class 'pandas.core.frame.DataFrame'>\n",
      "RangeIndex: 2938 entries, 0 to 2937\n",
      "Data columns (total 10 columns):\n",
      " #   Column              Non-Null Count  Dtype  \n",
      "---  ------              --------------  -----  \n",
      " 0   Country             2938 non-null   object \n",
      " 1   Year                2938 non-null   int64  \n",
      " 2   infant deaths       2938 non-null   int64  \n",
      " 3   Hepatitis B         2385 non-null   float64\n",
      " 4   Measles             2938 non-null   int64  \n",
      " 5    BMI                2904 non-null   float64\n",
      " 6   under-five deaths   2938 non-null   int64  \n",
      " 7   Polio               2919 non-null   float64\n",
      " 8   Diphtheria          2919 non-null   float64\n",
      " 9    HIV/AIDS           2938 non-null   float64\n",
      "dtypes: float64(5), int64(4), object(1)\n",
      "memory usage: 229.7+ KB\n"
     ]
    }
   ],
   "source": [
    "df2.info()"
   ]
  },
  {
   "cell_type": "code",
   "execution_count": 13,
   "id": "fac519c2",
   "metadata": {
    "execution": {
     "iopub.execute_input": "2022-02-27T06:46:35.189526Z",
     "iopub.status.busy": "2022-02-27T06:46:35.188652Z",
     "iopub.status.idle": "2022-02-27T06:46:35.192370Z",
     "shell.execute_reply": "2022-02-27T06:46:35.191854Z",
     "shell.execute_reply.started": "2022-02-27T04:13:13.843869Z"
    },
    "papermill": {
     "duration": 0.098438,
     "end_time": "2022-02-27T06:46:35.192515",
     "exception": false,
     "start_time": "2022-02-27T06:46:35.094077",
     "status": "completed"
    },
    "tags": []
   },
   "outputs": [
    {
     "data": {
      "text/html": [
       "<div>\n",
       "<style scoped>\n",
       "    .dataframe tbody tr th:only-of-type {\n",
       "        vertical-align: middle;\n",
       "    }\n",
       "\n",
       "    .dataframe tbody tr th {\n",
       "        vertical-align: top;\n",
       "    }\n",
       "\n",
       "    .dataframe thead th {\n",
       "        text-align: right;\n",
       "    }\n",
       "</style>\n",
       "<table border=\"1\" class=\"dataframe\">\n",
       "  <thead>\n",
       "    <tr style=\"text-align: right;\">\n",
       "      <th></th>\n",
       "      <th>Country</th>\n",
       "      <th>Year</th>\n",
       "      <th>infant deaths</th>\n",
       "      <th>Hepatitis B</th>\n",
       "      <th>Measles</th>\n",
       "      <th>BMI</th>\n",
       "      <th>under-five deaths</th>\n",
       "      <th>Polio</th>\n",
       "      <th>Diphtheria</th>\n",
       "      <th>HIV/AIDS</th>\n",
       "    </tr>\n",
       "  </thead>\n",
       "  <tbody>\n",
       "    <tr>\n",
       "      <th>0</th>\n",
       "      <td>Afghanistan</td>\n",
       "      <td>2015</td>\n",
       "      <td>62</td>\n",
       "      <td>65.0</td>\n",
       "      <td>1154</td>\n",
       "      <td>19.1</td>\n",
       "      <td>83</td>\n",
       "      <td>6.0</td>\n",
       "      <td>65.0</td>\n",
       "      <td>0.1</td>\n",
       "    </tr>\n",
       "  </tbody>\n",
       "</table>\n",
       "</div>"
      ],
      "text/plain": [
       "       Country  Year  infant deaths  Hepatitis B  Measles    BMI   \\\n",
       "0  Afghanistan  2015             62         65.0      1154   19.1   \n",
       "\n",
       "   under-five deaths   Polio  Diphtheria    HIV/AIDS  \n",
       "0                  83    6.0         65.0        0.1  "
      ]
     },
     "execution_count": 13,
     "metadata": {},
     "output_type": "execute_result"
    }
   ],
   "source": [
    "df2[:1][:3]"
   ]
  },
  {
   "cell_type": "code",
   "execution_count": 14,
   "id": "5a64b66f",
   "metadata": {
    "execution": {
     "iopub.execute_input": "2022-02-27T06:46:35.371316Z",
     "iopub.status.busy": "2022-02-27T06:46:35.370184Z",
     "iopub.status.idle": "2022-02-27T06:46:35.374008Z",
     "shell.execute_reply": "2022-02-27T06:46:35.374540Z",
     "shell.execute_reply.started": "2022-02-27T04:13:13.869424Z"
    },
    "papermill": {
     "duration": 0.100686,
     "end_time": "2022-02-27T06:46:35.374714",
     "exception": false,
     "start_time": "2022-02-27T06:46:35.274028",
     "status": "completed"
    },
    "tags": []
   },
   "outputs": [
    {
     "data": {
      "text/html": [
       "<div>\n",
       "<style scoped>\n",
       "    .dataframe tbody tr th:only-of-type {\n",
       "        vertical-align: middle;\n",
       "    }\n",
       "\n",
       "    .dataframe tbody tr th {\n",
       "        vertical-align: top;\n",
       "    }\n",
       "\n",
       "    .dataframe thead th {\n",
       "        text-align: right;\n",
       "    }\n",
       "</style>\n",
       "<table border=\"1\" class=\"dataframe\">\n",
       "  <thead>\n",
       "    <tr style=\"text-align: right;\">\n",
       "      <th></th>\n",
       "      <th>Country</th>\n",
       "      <th>Year</th>\n",
       "      <th>infant deaths</th>\n",
       "      <th>Hepatitis B</th>\n",
       "      <th>Measles</th>\n",
       "      <th>BMI</th>\n",
       "      <th>under-five deaths</th>\n",
       "      <th>Polio</th>\n",
       "      <th>Diphtheria</th>\n",
       "      <th>HIV/AIDS</th>\n",
       "    </tr>\n",
       "  </thead>\n",
       "  <tbody>\n",
       "    <tr>\n",
       "      <th>0</th>\n",
       "      <td>Afghanistan</td>\n",
       "      <td>2015</td>\n",
       "      <td>62</td>\n",
       "      <td>65.0</td>\n",
       "      <td>1154</td>\n",
       "      <td>19.1</td>\n",
       "      <td>83</td>\n",
       "      <td>6.0</td>\n",
       "      <td>65.0</td>\n",
       "      <td>0.1</td>\n",
       "    </tr>\n",
       "    <tr>\n",
       "      <th>1</th>\n",
       "      <td>Afghanistan</td>\n",
       "      <td>2014</td>\n",
       "      <td>64</td>\n",
       "      <td>62.0</td>\n",
       "      <td>492</td>\n",
       "      <td>18.6</td>\n",
       "      <td>86</td>\n",
       "      <td>58.0</td>\n",
       "      <td>62.0</td>\n",
       "      <td>0.1</td>\n",
       "    </tr>\n",
       "    <tr>\n",
       "      <th>2</th>\n",
       "      <td>Afghanistan</td>\n",
       "      <td>2013</td>\n",
       "      <td>66</td>\n",
       "      <td>64.0</td>\n",
       "      <td>430</td>\n",
       "      <td>18.1</td>\n",
       "      <td>89</td>\n",
       "      <td>62.0</td>\n",
       "      <td>64.0</td>\n",
       "      <td>0.1</td>\n",
       "    </tr>\n",
       "    <tr>\n",
       "      <th>3</th>\n",
       "      <td>Afghanistan</td>\n",
       "      <td>2012</td>\n",
       "      <td>69</td>\n",
       "      <td>67.0</td>\n",
       "      <td>2787</td>\n",
       "      <td>17.6</td>\n",
       "      <td>93</td>\n",
       "      <td>67.0</td>\n",
       "      <td>67.0</td>\n",
       "      <td>0.1</td>\n",
       "    </tr>\n",
       "    <tr>\n",
       "      <th>4</th>\n",
       "      <td>Afghanistan</td>\n",
       "      <td>2011</td>\n",
       "      <td>71</td>\n",
       "      <td>68.0</td>\n",
       "      <td>3013</td>\n",
       "      <td>17.2</td>\n",
       "      <td>97</td>\n",
       "      <td>68.0</td>\n",
       "      <td>68.0</td>\n",
       "      <td>0.1</td>\n",
       "    </tr>\n",
       "  </tbody>\n",
       "</table>\n",
       "</div>"
      ],
      "text/plain": [
       "       Country  Year  infant deaths  Hepatitis B  Measles    BMI   \\\n",
       "0  Afghanistan  2015             62         65.0      1154   19.1   \n",
       "1  Afghanistan  2014             64         62.0       492   18.6   \n",
       "2  Afghanistan  2013             66         64.0       430   18.1   \n",
       "3  Afghanistan  2012             69         67.0      2787   17.6   \n",
       "4  Afghanistan  2011             71         68.0      3013   17.2   \n",
       "\n",
       "   under-five deaths   Polio  Diphtheria    HIV/AIDS  \n",
       "0                  83    6.0         65.0        0.1  \n",
       "1                  86   58.0         62.0        0.1  \n",
       "2                  89   62.0         64.0        0.1  \n",
       "3                  93   67.0         67.0        0.1  \n",
       "4                  97   68.0         68.0        0.1  "
      ]
     },
     "execution_count": 14,
     "metadata": {},
     "output_type": "execute_result"
    }
   ],
   "source": [
    "df2.head()"
   ]
  },
  {
   "cell_type": "code",
   "execution_count": 15,
   "id": "cab1ad9d",
   "metadata": {
    "execution": {
     "iopub.execute_input": "2022-02-27T06:46:35.545856Z",
     "iopub.status.busy": "2022-02-27T06:46:35.545128Z",
     "iopub.status.idle": "2022-02-27T06:46:35.549801Z",
     "shell.execute_reply": "2022-02-27T06:46:35.549155Z",
     "shell.execute_reply.started": "2022-02-27T04:13:13.895291Z"
    },
    "papermill": {
     "duration": 0.092818,
     "end_time": "2022-02-27T06:46:35.549950",
     "exception": false,
     "start_time": "2022-02-27T06:46:35.457132",
     "status": "completed"
    },
    "tags": []
   },
   "outputs": [
    {
     "data": {
      "text/plain": [
       "Index(['Country', 'Year', 'Status', 'Life expectancy ', 'Adult Mortality',\n",
       "       'Alcohol', 'percentage expenditure', 'Total expenditure', 'GDP',\n",
       "       'Population', ' thinness  1-19 years', ' thinness 5-9 years',\n",
       "       'Income composition of resources', 'Schooling'],\n",
       "      dtype='object')"
      ]
     },
     "execution_count": 15,
     "metadata": {},
     "output_type": "execute_result"
    }
   ],
   "source": [
    "df1.columns"
   ]
  },
  {
   "cell_type": "code",
   "execution_count": 16,
   "id": "2f3239bb",
   "metadata": {
    "execution": {
     "iopub.execute_input": "2022-02-27T06:46:35.720327Z",
     "iopub.status.busy": "2022-02-27T06:46:35.719591Z",
     "iopub.status.idle": "2022-02-27T06:46:35.723021Z",
     "shell.execute_reply": "2022-02-27T06:46:35.722420Z",
     "shell.execute_reply.started": "2022-02-27T04:13:13.914058Z"
    },
    "papermill": {
     "duration": 0.090839,
     "end_time": "2022-02-27T06:46:35.723177",
     "exception": false,
     "start_time": "2022-02-27T06:46:35.632338",
     "status": "completed"
    },
    "tags": []
   },
   "outputs": [
    {
     "data": {
      "text/plain": [
       "Index(['Status', 'Life expectancy ', 'Adult Mortality', 'Alcohol',\n",
       "       'percentage expenditure', 'Total expenditure', 'GDP', 'Population',\n",
       "       ' thinness  1-19 years', ' thinness 5-9 years',\n",
       "       'Income composition of resources', 'Schooling'],\n",
       "      dtype='object')"
      ]
     },
     "execution_count": 16,
     "metadata": {},
     "output_type": "execute_result"
    }
   ],
   "source": [
    "df1.columns[2:]"
   ]
  },
  {
   "cell_type": "markdown",
   "id": "5864a96a",
   "metadata": {
    "papermill": {
     "duration": 0.083005,
     "end_time": "2022-02-27T06:46:35.888634",
     "exception": false,
     "start_time": "2022-02-27T06:46:35.805629",
     "status": "completed"
    },
    "tags": []
   },
   "source": [
    "**Task 3:** \n",
    "\n",
    "You have just kick started your exploration and observed that there is not a single column with unique values that can be used to merge the datasets. Also, the column names have blank spaces, which you have to work to correct. You have to create a primary key column for both data frames by using the apply method. Perform below tasks;\n",
    "\n",
    "●\tRename the column by removing blank spaces from both the dataset. Apply string strip function on each dataset column.\n",
    "\n",
    "●\tCreate a unique column, named as “UniqueKey”. We will explore unique columns from both the dataset. If not then we will have to create it.\n"
   ]
  },
  {
   "cell_type": "code",
   "execution_count": 17,
   "id": "8ca7ddf8",
   "metadata": {
    "execution": {
     "iopub.execute_input": "2022-02-27T06:46:36.062114Z",
     "iopub.status.busy": "2022-02-27T06:46:36.061389Z",
     "iopub.status.idle": "2022-02-27T06:46:36.065622Z",
     "shell.execute_reply": "2022-02-27T06:46:36.065021Z",
     "shell.execute_reply.started": "2022-02-27T04:13:13.933203Z"
    },
    "papermill": {
     "duration": 0.093093,
     "end_time": "2022-02-27T06:46:36.065764",
     "exception": false,
     "start_time": "2022-02-27T06:46:35.972671",
     "status": "completed"
    },
    "tags": []
   },
   "outputs": [
    {
     "data": {
      "text/plain": [
       "Index(['Country', 'Year', 'Status', 'Life expectancy ', 'Adult Mortality',\n",
       "       'Alcohol', 'percentage expenditure', 'Total expenditure', 'GDP',\n",
       "       'Population', ' thinness  1-19 years', ' thinness 5-9 years',\n",
       "       'Income composition of resources', 'Schooling'],\n",
       "      dtype='object')"
      ]
     },
     "execution_count": 17,
     "metadata": {},
     "output_type": "execute_result"
    }
   ],
   "source": [
    "df1.columns"
   ]
  },
  {
   "cell_type": "code",
   "execution_count": 18,
   "id": "543aa737",
   "metadata": {
    "execution": {
     "iopub.execute_input": "2022-02-27T06:46:36.237903Z",
     "iopub.status.busy": "2022-02-27T06:46:36.237186Z",
     "iopub.status.idle": "2022-02-27T06:46:36.240218Z",
     "shell.execute_reply": "2022-02-27T06:46:36.239664Z",
     "shell.execute_reply.started": "2022-02-27T04:13:13.956449Z"
    },
    "papermill": {
     "duration": 0.090799,
     "end_time": "2022-02-27T06:46:36.240381",
     "exception": false,
     "start_time": "2022-02-27T06:46:36.149582",
     "status": "completed"
    },
    "tags": []
   },
   "outputs": [],
   "source": [
    "df3 = df1.copy() #to keep original df intact"
   ]
  },
  {
   "cell_type": "code",
   "execution_count": 19,
   "id": "01932efd",
   "metadata": {
    "execution": {
     "iopub.execute_input": "2022-02-27T06:46:36.415295Z",
     "iopub.status.busy": "2022-02-27T06:46:36.414567Z",
     "iopub.status.idle": "2022-02-27T06:46:36.417617Z",
     "shell.execute_reply": "2022-02-27T06:46:36.417091Z",
     "shell.execute_reply.started": "2022-02-27T04:13:13.972614Z"
    },
    "papermill": {
     "duration": 0.093399,
     "end_time": "2022-02-27T06:46:36.417771",
     "exception": false,
     "start_time": "2022-02-27T06:46:36.324372",
     "status": "completed"
    },
    "tags": []
   },
   "outputs": [],
   "source": [
    "df3.rename(columns = {'Life expectancy ':'Life_expectancy', 'Adult Mortality':'Adult_Mortality',\n",
    "           'percentage expenditure':'percentage_expenditure', 'Total expenditure':'Total_expenditure',\n",
    "           ' thinness  1-19 years':'thinness_1-19_years', ' thinness 5-9 years': 'thinness_5-9_years',\n",
    "            'Income composition of resources':'Income_composition_of_resources'          \n",
    "           }, inplace=True)"
   ]
  },
  {
   "cell_type": "code",
   "execution_count": 20,
   "id": "f5b1860f",
   "metadata": {
    "execution": {
     "iopub.execute_input": "2022-02-27T06:46:36.607950Z",
     "iopub.status.busy": "2022-02-27T06:46:36.606203Z",
     "iopub.status.idle": "2022-02-27T06:46:36.613472Z",
     "shell.execute_reply": "2022-02-27T06:46:36.612734Z",
     "shell.execute_reply.started": "2022-02-27T04:13:13.994972Z"
    },
    "papermill": {
     "duration": 0.112179,
     "end_time": "2022-02-27T06:46:36.613654",
     "exception": false,
     "start_time": "2022-02-27T06:46:36.501475",
     "status": "completed"
    },
    "tags": []
   },
   "outputs": [
    {
     "data": {
      "text/html": [
       "<div>\n",
       "<style scoped>\n",
       "    .dataframe tbody tr th:only-of-type {\n",
       "        vertical-align: middle;\n",
       "    }\n",
       "\n",
       "    .dataframe tbody tr th {\n",
       "        vertical-align: top;\n",
       "    }\n",
       "\n",
       "    .dataframe thead th {\n",
       "        text-align: right;\n",
       "    }\n",
       "</style>\n",
       "<table border=\"1\" class=\"dataframe\">\n",
       "  <thead>\n",
       "    <tr style=\"text-align: right;\">\n",
       "      <th></th>\n",
       "      <th>Country</th>\n",
       "      <th>Year</th>\n",
       "      <th>Status</th>\n",
       "      <th>Life_expectancy</th>\n",
       "      <th>Adult_Mortality</th>\n",
       "      <th>Alcohol</th>\n",
       "      <th>percentage_expenditure</th>\n",
       "      <th>Total_expenditure</th>\n",
       "      <th>GDP</th>\n",
       "      <th>Population</th>\n",
       "      <th>thinness_1-19_years</th>\n",
       "      <th>thinness_5-9_years</th>\n",
       "      <th>Income_composition_of_resources</th>\n",
       "      <th>Schooling</th>\n",
       "    </tr>\n",
       "  </thead>\n",
       "  <tbody>\n",
       "    <tr>\n",
       "      <th>0</th>\n",
       "      <td>Afghanistan</td>\n",
       "      <td>2015</td>\n",
       "      <td>Developing</td>\n",
       "      <td>65.0</td>\n",
       "      <td>263.0</td>\n",
       "      <td>0.01</td>\n",
       "      <td>71.279624</td>\n",
       "      <td>8.16</td>\n",
       "      <td>584.259210</td>\n",
       "      <td>33736494.0</td>\n",
       "      <td>17.2</td>\n",
       "      <td>17.3</td>\n",
       "      <td>0.479</td>\n",
       "      <td>10.1</td>\n",
       "    </tr>\n",
       "    <tr>\n",
       "      <th>1</th>\n",
       "      <td>Afghanistan</td>\n",
       "      <td>2014</td>\n",
       "      <td>Developing</td>\n",
       "      <td>59.9</td>\n",
       "      <td>271.0</td>\n",
       "      <td>0.01</td>\n",
       "      <td>73.523582</td>\n",
       "      <td>8.18</td>\n",
       "      <td>612.696514</td>\n",
       "      <td>327582.0</td>\n",
       "      <td>17.5</td>\n",
       "      <td>17.5</td>\n",
       "      <td>0.476</td>\n",
       "      <td>10.0</td>\n",
       "    </tr>\n",
       "    <tr>\n",
       "      <th>2</th>\n",
       "      <td>Afghanistan</td>\n",
       "      <td>2013</td>\n",
       "      <td>Developing</td>\n",
       "      <td>59.9</td>\n",
       "      <td>268.0</td>\n",
       "      <td>0.01</td>\n",
       "      <td>73.219243</td>\n",
       "      <td>8.13</td>\n",
       "      <td>631.744976</td>\n",
       "      <td>31731688.0</td>\n",
       "      <td>17.7</td>\n",
       "      <td>17.7</td>\n",
       "      <td>0.470</td>\n",
       "      <td>9.9</td>\n",
       "    </tr>\n",
       "    <tr>\n",
       "      <th>3</th>\n",
       "      <td>Afghanistan</td>\n",
       "      <td>2012</td>\n",
       "      <td>Developing</td>\n",
       "      <td>59.5</td>\n",
       "      <td>272.0</td>\n",
       "      <td>0.01</td>\n",
       "      <td>78.184215</td>\n",
       "      <td>8.52</td>\n",
       "      <td>669.959000</td>\n",
       "      <td>3696958.0</td>\n",
       "      <td>17.9</td>\n",
       "      <td>18.0</td>\n",
       "      <td>0.463</td>\n",
       "      <td>9.8</td>\n",
       "    </tr>\n",
       "    <tr>\n",
       "      <th>4</th>\n",
       "      <td>Afghanistan</td>\n",
       "      <td>2011</td>\n",
       "      <td>Developing</td>\n",
       "      <td>59.2</td>\n",
       "      <td>275.0</td>\n",
       "      <td>0.01</td>\n",
       "      <td>7.097109</td>\n",
       "      <td>7.87</td>\n",
       "      <td>63.537231</td>\n",
       "      <td>2978599.0</td>\n",
       "      <td>18.2</td>\n",
       "      <td>18.2</td>\n",
       "      <td>0.454</td>\n",
       "      <td>9.5</td>\n",
       "    </tr>\n",
       "  </tbody>\n",
       "</table>\n",
       "</div>"
      ],
      "text/plain": [
       "       Country  Year      Status  Life_expectancy  Adult_Mortality  Alcohol  \\\n",
       "0  Afghanistan  2015  Developing             65.0            263.0     0.01   \n",
       "1  Afghanistan  2014  Developing             59.9            271.0     0.01   \n",
       "2  Afghanistan  2013  Developing             59.9            268.0     0.01   \n",
       "3  Afghanistan  2012  Developing             59.5            272.0     0.01   \n",
       "4  Afghanistan  2011  Developing             59.2            275.0     0.01   \n",
       "\n",
       "   percentage_expenditure  Total_expenditure         GDP  Population  \\\n",
       "0               71.279624               8.16  584.259210  33736494.0   \n",
       "1               73.523582               8.18  612.696514    327582.0   \n",
       "2               73.219243               8.13  631.744976  31731688.0   \n",
       "3               78.184215               8.52  669.959000   3696958.0   \n",
       "4                7.097109               7.87   63.537231   2978599.0   \n",
       "\n",
       "   thinness_1-19_years  thinness_5-9_years  Income_composition_of_resources  \\\n",
       "0                 17.2                17.3                            0.479   \n",
       "1                 17.5                17.5                            0.476   \n",
       "2                 17.7                17.7                            0.470   \n",
       "3                 17.9                18.0                            0.463   \n",
       "4                 18.2                18.2                            0.454   \n",
       "\n",
       "   Schooling  \n",
       "0       10.1  \n",
       "1       10.0  \n",
       "2        9.9  \n",
       "3        9.8  \n",
       "4        9.5  "
      ]
     },
     "execution_count": 20,
     "metadata": {},
     "output_type": "execute_result"
    }
   ],
   "source": [
    "df3.head()"
   ]
  },
  {
   "cell_type": "code",
   "execution_count": 21,
   "id": "b06295c5",
   "metadata": {
    "execution": {
     "iopub.execute_input": "2022-02-27T06:46:36.790100Z",
     "iopub.status.busy": "2022-02-27T06:46:36.789375Z",
     "iopub.status.idle": "2022-02-27T06:46:36.793616Z",
     "shell.execute_reply": "2022-02-27T06:46:36.792817Z",
     "shell.execute_reply.started": "2022-02-27T04:13:14.034530Z"
    },
    "papermill": {
     "duration": 0.094104,
     "end_time": "2022-02-27T06:46:36.793771",
     "exception": false,
     "start_time": "2022-02-27T06:46:36.699667",
     "status": "completed"
    },
    "tags": []
   },
   "outputs": [],
   "source": [
    "df1 = df1.rename(columns = lambda x: x.strip())\n",
    "df2 = df2.rename(columns = lambda x: x.strip())"
   ]
  },
  {
   "cell_type": "code",
   "execution_count": 22,
   "id": "bfe1cb05",
   "metadata": {
    "execution": {
     "iopub.execute_input": "2022-02-27T06:46:36.970086Z",
     "iopub.status.busy": "2022-02-27T06:46:36.969353Z",
     "iopub.status.idle": "2022-02-27T06:46:37.094770Z",
     "shell.execute_reply": "2022-02-27T06:46:37.094223Z",
     "shell.execute_reply.started": "2022-02-27T04:13:14.042239Z"
    },
    "papermill": {
     "duration": 0.215507,
     "end_time": "2022-02-27T06:46:37.094949",
     "exception": false,
     "start_time": "2022-02-27T06:46:36.879442",
     "status": "completed"
    },
    "tags": []
   },
   "outputs": [],
   "source": [
    "#create a unique key column: UniqueKey\n",
    "\n",
    "df1['UniqueKey'] = df1.apply(lambda x: x['Country'] + str(x['Year']), axis = 1)\n",
    "df2['UniqueKey'] = df2.apply(lambda x: x['Country'] + str(x['Year']), axis = 1)"
   ]
  },
  {
   "cell_type": "code",
   "execution_count": 23,
   "id": "f4db3ee7",
   "metadata": {
    "execution": {
     "iopub.execute_input": "2022-02-27T06:46:37.269891Z",
     "iopub.status.busy": "2022-02-27T06:46:37.269201Z",
     "iopub.status.idle": "2022-02-27T06:46:37.273015Z",
     "shell.execute_reply": "2022-02-27T06:46:37.273511Z",
     "shell.execute_reply.started": "2022-02-27T04:13:14.137705Z"
    },
    "papermill": {
     "duration": 0.094794,
     "end_time": "2022-02-27T06:46:37.273717",
     "exception": false,
     "start_time": "2022-02-27T06:46:37.178923",
     "status": "completed"
    },
    "tags": []
   },
   "outputs": [
    {
     "name": "stdout",
     "output_type": "stream",
     "text": [
      "0\n",
      "0\n"
     ]
    }
   ],
   "source": [
    "print(df1.UniqueKey.duplicated().sum())\n",
    "print(df2.UniqueKey.duplicated().sum())"
   ]
  },
  {
   "cell_type": "code",
   "execution_count": 24,
   "id": "7d6658be",
   "metadata": {
    "execution": {
     "iopub.execute_input": "2022-02-27T06:46:37.450727Z",
     "iopub.status.busy": "2022-02-27T06:46:37.447426Z",
     "iopub.status.idle": "2022-02-27T06:46:37.455825Z",
     "shell.execute_reply": "2022-02-27T06:46:37.455249Z",
     "shell.execute_reply.started": "2022-02-27T04:13:14.146691Z"
    },
    "papermill": {
     "duration": 0.098494,
     "end_time": "2022-02-27T06:46:37.455978",
     "exception": false,
     "start_time": "2022-02-27T06:46:37.357484",
     "status": "completed"
    },
    "tags": []
   },
   "outputs": [
    {
     "data": {
      "text/plain": [
       "Afghanistan2015    1\n",
       "Pakistan2006       1\n",
       "Pakistan2004       1\n",
       "Pakistan2003       1\n",
       "Pakistan2002       1\n",
       "                  ..\n",
       "Georgia2012        1\n",
       "Georgia2011        1\n",
       "Georgia2010        1\n",
       "Georgia2009        1\n",
       "Zimbabwe2000       1\n",
       "Name: UniqueKey, Length: 2938, dtype: int64"
      ]
     },
     "execution_count": 24,
     "metadata": {},
     "output_type": "execute_result"
    }
   ],
   "source": [
    "df2.UniqueKey.value_counts()"
   ]
  },
  {
   "cell_type": "code",
   "execution_count": 25,
   "id": "7bf8fe3a",
   "metadata": {
    "execution": {
     "iopub.execute_input": "2022-02-27T06:46:37.634261Z",
     "iopub.status.busy": "2022-02-27T06:46:37.633214Z",
     "iopub.status.idle": "2022-02-27T06:46:37.639543Z",
     "shell.execute_reply": "2022-02-27T06:46:37.638776Z",
     "shell.execute_reply.started": "2022-02-27T04:13:14.173048Z"
    },
    "papermill": {
     "duration": 0.098832,
     "end_time": "2022-02-27T06:46:37.639697",
     "exception": false,
     "start_time": "2022-02-27T06:46:37.540865",
     "status": "completed"
    },
    "tags": []
   },
   "outputs": [
    {
     "data": {
      "text/plain": [
       "array([114293.8433])"
      ]
     },
     "execution_count": 25,
     "metadata": {},
     "output_type": "execute_result"
    }
   ],
   "source": [
    "-np.sort(-df1.GDP.unique())[2:3] #2nd highest GDP"
   ]
  },
  {
   "cell_type": "code",
   "execution_count": 26,
   "id": "9a4da073",
   "metadata": {
    "execution": {
     "iopub.execute_input": "2022-02-27T06:46:37.831169Z",
     "iopub.status.busy": "2022-02-27T06:46:37.829038Z",
     "iopub.status.idle": "2022-02-27T06:46:37.835989Z",
     "shell.execute_reply": "2022-02-27T06:46:37.835353Z",
     "shell.execute_reply.started": "2022-02-27T04:13:14.192699Z"
    },
    "papermill": {
     "duration": 0.111435,
     "end_time": "2022-02-27T06:46:37.836142",
     "exception": false,
     "start_time": "2022-02-27T06:46:37.724707",
     "status": "completed"
    },
    "tags": []
   },
   "outputs": [
    {
     "data": {
      "text/html": [
       "<div>\n",
       "<style scoped>\n",
       "    .dataframe tbody tr th:only-of-type {\n",
       "        vertical-align: middle;\n",
       "    }\n",
       "\n",
       "    .dataframe tbody tr th {\n",
       "        vertical-align: top;\n",
       "    }\n",
       "\n",
       "    .dataframe thead th {\n",
       "        text-align: right;\n",
       "    }\n",
       "</style>\n",
       "<table border=\"1\" class=\"dataframe\">\n",
       "  <thead>\n",
       "    <tr style=\"text-align: right;\">\n",
       "      <th></th>\n",
       "      <th>Country</th>\n",
       "      <th>Year</th>\n",
       "      <th>Status</th>\n",
       "      <th>Life expectancy</th>\n",
       "      <th>Adult Mortality</th>\n",
       "      <th>Alcohol</th>\n",
       "      <th>percentage expenditure</th>\n",
       "      <th>Total expenditure</th>\n",
       "      <th>GDP</th>\n",
       "      <th>Population</th>\n",
       "      <th>thinness  1-19 years</th>\n",
       "      <th>thinness 5-9 years</th>\n",
       "      <th>Income composition of resources</th>\n",
       "      <th>Schooling</th>\n",
       "      <th>UniqueKey</th>\n",
       "    </tr>\n",
       "  </thead>\n",
       "  <tbody>\n",
       "    <tr>\n",
       "      <th>0</th>\n",
       "      <td>Afghanistan</td>\n",
       "      <td>2015</td>\n",
       "      <td>Developing</td>\n",
       "      <td>65.0</td>\n",
       "      <td>263.0</td>\n",
       "      <td>0.01</td>\n",
       "      <td>71.279624</td>\n",
       "      <td>8.16</td>\n",
       "      <td>584.259210</td>\n",
       "      <td>33736494.0</td>\n",
       "      <td>17.2</td>\n",
       "      <td>17.3</td>\n",
       "      <td>0.479</td>\n",
       "      <td>10.1</td>\n",
       "      <td>Afghanistan2015</td>\n",
       "    </tr>\n",
       "    <tr>\n",
       "      <th>1</th>\n",
       "      <td>Afghanistan</td>\n",
       "      <td>2014</td>\n",
       "      <td>Developing</td>\n",
       "      <td>59.9</td>\n",
       "      <td>271.0</td>\n",
       "      <td>0.01</td>\n",
       "      <td>73.523582</td>\n",
       "      <td>8.18</td>\n",
       "      <td>612.696514</td>\n",
       "      <td>327582.0</td>\n",
       "      <td>17.5</td>\n",
       "      <td>17.5</td>\n",
       "      <td>0.476</td>\n",
       "      <td>10.0</td>\n",
       "      <td>Afghanistan2014</td>\n",
       "    </tr>\n",
       "    <tr>\n",
       "      <th>2</th>\n",
       "      <td>Afghanistan</td>\n",
       "      <td>2013</td>\n",
       "      <td>Developing</td>\n",
       "      <td>59.9</td>\n",
       "      <td>268.0</td>\n",
       "      <td>0.01</td>\n",
       "      <td>73.219243</td>\n",
       "      <td>8.13</td>\n",
       "      <td>631.744976</td>\n",
       "      <td>31731688.0</td>\n",
       "      <td>17.7</td>\n",
       "      <td>17.7</td>\n",
       "      <td>0.470</td>\n",
       "      <td>9.9</td>\n",
       "      <td>Afghanistan2013</td>\n",
       "    </tr>\n",
       "    <tr>\n",
       "      <th>3</th>\n",
       "      <td>Afghanistan</td>\n",
       "      <td>2012</td>\n",
       "      <td>Developing</td>\n",
       "      <td>59.5</td>\n",
       "      <td>272.0</td>\n",
       "      <td>0.01</td>\n",
       "      <td>78.184215</td>\n",
       "      <td>8.52</td>\n",
       "      <td>669.959000</td>\n",
       "      <td>3696958.0</td>\n",
       "      <td>17.9</td>\n",
       "      <td>18.0</td>\n",
       "      <td>0.463</td>\n",
       "      <td>9.8</td>\n",
       "      <td>Afghanistan2012</td>\n",
       "    </tr>\n",
       "    <tr>\n",
       "      <th>4</th>\n",
       "      <td>Afghanistan</td>\n",
       "      <td>2011</td>\n",
       "      <td>Developing</td>\n",
       "      <td>59.2</td>\n",
       "      <td>275.0</td>\n",
       "      <td>0.01</td>\n",
       "      <td>7.097109</td>\n",
       "      <td>7.87</td>\n",
       "      <td>63.537231</td>\n",
       "      <td>2978599.0</td>\n",
       "      <td>18.2</td>\n",
       "      <td>18.2</td>\n",
       "      <td>0.454</td>\n",
       "      <td>9.5</td>\n",
       "      <td>Afghanistan2011</td>\n",
       "    </tr>\n",
       "  </tbody>\n",
       "</table>\n",
       "</div>"
      ],
      "text/plain": [
       "       Country  Year      Status  Life expectancy  Adult Mortality  Alcohol  \\\n",
       "0  Afghanistan  2015  Developing             65.0            263.0     0.01   \n",
       "1  Afghanistan  2014  Developing             59.9            271.0     0.01   \n",
       "2  Afghanistan  2013  Developing             59.9            268.0     0.01   \n",
       "3  Afghanistan  2012  Developing             59.5            272.0     0.01   \n",
       "4  Afghanistan  2011  Developing             59.2            275.0     0.01   \n",
       "\n",
       "   percentage expenditure  Total expenditure         GDP  Population  \\\n",
       "0               71.279624               8.16  584.259210  33736494.0   \n",
       "1               73.523582               8.18  612.696514    327582.0   \n",
       "2               73.219243               8.13  631.744976  31731688.0   \n",
       "3               78.184215               8.52  669.959000   3696958.0   \n",
       "4                7.097109               7.87   63.537231   2978599.0   \n",
       "\n",
       "   thinness  1-19 years  thinness 5-9 years  Income composition of resources  \\\n",
       "0                  17.2                17.3                            0.479   \n",
       "1                  17.5                17.5                            0.476   \n",
       "2                  17.7                17.7                            0.470   \n",
       "3                  17.9                18.0                            0.463   \n",
       "4                  18.2                18.2                            0.454   \n",
       "\n",
       "   Schooling        UniqueKey  \n",
       "0       10.1  Afghanistan2015  \n",
       "1       10.0  Afghanistan2014  \n",
       "2        9.9  Afghanistan2013  \n",
       "3        9.8  Afghanistan2012  \n",
       "4        9.5  Afghanistan2011  "
      ]
     },
     "execution_count": 26,
     "metadata": {},
     "output_type": "execute_result"
    }
   ],
   "source": [
    "df1.head()"
   ]
  },
  {
   "cell_type": "markdown",
   "id": "868e0968",
   "metadata": {
    "execution": {
     "iopub.execute_input": "2022-02-24T09:37:04.434595Z",
     "iopub.status.busy": "2022-02-24T09:37:04.43353Z",
     "iopub.status.idle": "2022-02-24T09:37:04.437882Z",
     "shell.execute_reply": "2022-02-24T09:37:04.437314Z",
     "shell.execute_reply.started": "2022-02-24T09:37:04.434548Z"
    },
    "papermill": {
     "duration": 0.08578,
     "end_time": "2022-02-27T06:46:38.009843",
     "exception": false,
     "start_time": "2022-02-27T06:46:37.924063",
     "status": "completed"
    },
    "tags": []
   },
   "source": [
    "### Merging both the df"
   ]
  },
  {
   "cell_type": "code",
   "execution_count": 27,
   "id": "e98c346c",
   "metadata": {
    "execution": {
     "iopub.execute_input": "2022-02-27T06:46:38.190332Z",
     "iopub.status.busy": "2022-02-27T06:46:38.184162Z",
     "iopub.status.idle": "2022-02-27T06:46:38.205582Z",
     "shell.execute_reply": "2022-02-27T06:46:38.206191Z",
     "shell.execute_reply.started": "2022-02-27T04:13:14.233056Z"
    },
    "papermill": {
     "duration": 0.109816,
     "end_time": "2022-02-27T06:46:38.206368",
     "exception": false,
     "start_time": "2022-02-27T06:46:38.096552",
     "status": "completed"
    },
    "tags": []
   },
   "outputs": [],
   "source": [
    "df2.drop(labels = ['Country', 'Year'], inplace=True, axis= 1)\n",
    "df = pd.merge(df1, df2, how = 'inner', on = 'UniqueKey')"
   ]
  },
  {
   "cell_type": "markdown",
   "id": "c36963e2",
   "metadata": {
    "papermill": {
     "duration": 0.084714,
     "end_time": "2022-02-27T06:46:38.375699",
     "exception": false,
     "start_time": "2022-02-27T06:46:38.290985",
     "status": "completed"
    },
    "tags": []
   },
   "source": [
    "# Scenario 2: \n",
    "\n",
    "Before exploring the relationships and draw insights, cleaning the dataset is the most important job. Complete below tasks to prepare your dataset for further analysis."
   ]
  },
  {
   "cell_type": "markdown",
   "id": "cf7efd26",
   "metadata": {
    "papermill": {
     "duration": 0.084564,
     "end_time": "2022-02-27T06:46:38.544973",
     "exception": false,
     "start_time": "2022-02-27T06:46:38.460409",
     "status": "completed"
    },
    "tags": []
   },
   "source": [
    "**Task 1:** \n",
    "\n",
    "●\tthere can be a chance you have received a dataset with duplicate values. Remove them and analyze the dimension of the dataframe before and after removing.\n",
    "\n",
    "●\tFor each feature, identify the total number of unique values.\n",
    "\n",
    "●\tInformation for the feature ‘Uniquekey’ is already reflected in “Country” and “Year”. you can remove it and verify your results by viewing the column names.\n"
   ]
  },
  {
   "cell_type": "code",
   "execution_count": 28,
   "id": "91a023be",
   "metadata": {
    "execution": {
     "iopub.execute_input": "2022-02-27T06:46:38.723004Z",
     "iopub.status.busy": "2022-02-27T06:46:38.721948Z",
     "iopub.status.idle": "2022-02-27T06:46:38.739341Z",
     "shell.execute_reply": "2022-02-27T06:46:38.738710Z",
     "shell.execute_reply.started": "2022-02-27T04:13:14.254436Z"
    },
    "papermill": {
     "duration": 0.10784,
     "end_time": "2022-02-27T06:46:38.739491",
     "exception": false,
     "start_time": "2022-02-27T06:46:38.631651",
     "status": "completed"
    },
    "tags": []
   },
   "outputs": [
    {
     "name": "stdout",
     "output_type": "stream",
     "text": [
      "(2938, 23)\n",
      "(2938, 23)\n"
     ]
    }
   ],
   "source": [
    "print(df.shape)\n",
    "#df.duplicated().sum()\n",
    "df.drop_duplicates(inplace=True)\n",
    "print(df.shape)"
   ]
  },
  {
   "cell_type": "code",
   "execution_count": 29,
   "id": "1dbc2218",
   "metadata": {
    "execution": {
     "iopub.execute_input": "2022-02-27T06:46:38.918741Z",
     "iopub.status.busy": "2022-02-27T06:46:38.918032Z",
     "iopub.status.idle": "2022-02-27T06:46:38.929538Z",
     "shell.execute_reply": "2022-02-27T06:46:38.928980Z",
     "shell.execute_reply.started": "2022-02-27T04:13:14.281798Z"
    },
    "papermill": {
     "duration": 0.103987,
     "end_time": "2022-02-27T06:46:38.929703",
     "exception": false,
     "start_time": "2022-02-27T06:46:38.825716",
     "status": "completed"
    },
    "tags": []
   },
   "outputs": [
    {
     "data": {
      "text/plain": [
       "Country                             193\n",
       "Year                                 16\n",
       "Status                                2\n",
       "Life expectancy                     362\n",
       "Adult Mortality                     425\n",
       "Alcohol                            1076\n",
       "percentage expenditure             2328\n",
       "Total expenditure                   818\n",
       "GDP                                2490\n",
       "Population                         2278\n",
       "thinness  1-19 years                200\n",
       "thinness 5-9 years                  207\n",
       "Income composition of resources     625\n",
       "Schooling                           173\n",
       "UniqueKey                          2938\n",
       "infant deaths                       209\n",
       "Hepatitis B                          87\n",
       "Measles                             958\n",
       "BMI                                 608\n",
       "under-five deaths                   252\n",
       "Polio                                73\n",
       "Diphtheria                           81\n",
       "HIV/AIDS                            200\n",
       "dtype: int64"
      ]
     },
     "execution_count": 29,
     "metadata": {},
     "output_type": "execute_result"
    }
   ],
   "source": [
    "df.nunique()"
   ]
  },
  {
   "cell_type": "code",
   "execution_count": 30,
   "id": "17705070",
   "metadata": {
    "execution": {
     "iopub.execute_input": "2022-02-27T06:46:39.114956Z",
     "iopub.status.busy": "2022-02-27T06:46:39.110047Z",
     "iopub.status.idle": "2022-02-27T06:46:39.118825Z",
     "shell.execute_reply": "2022-02-27T06:46:39.118145Z",
     "shell.execute_reply.started": "2022-02-27T04:13:14.301037Z"
    },
    "papermill": {
     "duration": 0.101646,
     "end_time": "2022-02-27T06:46:39.118974",
     "exception": false,
     "start_time": "2022-02-27T06:46:39.017328",
     "status": "completed"
    },
    "tags": []
   },
   "outputs": [
    {
     "data": {
      "text/plain": [
       "Country                             0.000000\n",
       "Year                                0.000000\n",
       "Status                              0.000000\n",
       "Life expectancy                     0.340368\n",
       "Adult Mortality                     0.340368\n",
       "Alcohol                             6.603131\n",
       "percentage expenditure              0.000000\n",
       "Total expenditure                   7.692308\n",
       "GDP                                15.248468\n",
       "Population                         22.191967\n",
       "thinness  1-19 years                1.157250\n",
       "thinness 5-9 years                  1.157250\n",
       "Income composition of resources     5.684139\n",
       "Schooling                           5.547992\n",
       "UniqueKey                           0.000000\n",
       "infant deaths                       0.000000\n",
       "Hepatitis B                        18.822328\n",
       "Measles                             0.000000\n",
       "BMI                                 1.157250\n",
       "under-five deaths                   0.000000\n",
       "Polio                               0.646698\n",
       "Diphtheria                          0.646698\n",
       "HIV/AIDS                            0.000000\n",
       "dtype: float64"
      ]
     },
     "execution_count": 30,
     "metadata": {},
     "output_type": "execute_result"
    }
   ],
   "source": [
    "#percentage of null values in each columns\n",
    "(df.isnull().sum()/df.shape[0])*100"
   ]
  },
  {
   "cell_type": "code",
   "execution_count": 31,
   "id": "5deac5a4",
   "metadata": {
    "execution": {
     "iopub.execute_input": "2022-02-27T06:46:39.302115Z",
     "iopub.status.busy": "2022-02-27T06:46:39.301322Z",
     "iopub.status.idle": "2022-02-27T06:46:39.312415Z",
     "shell.execute_reply": "2022-02-27T06:46:39.313402Z",
     "shell.execute_reply.started": "2022-02-27T04:13:14.320016Z"
    },
    "papermill": {
     "duration": 0.108028,
     "end_time": "2022-02-27T06:46:39.313685",
     "exception": false,
     "start_time": "2022-02-27T06:46:39.205657",
     "status": "completed"
    },
    "tags": []
   },
   "outputs": [
    {
     "name": "stdout",
     "output_type": "stream",
     "text": [
      "<class 'pandas.core.frame.DataFrame'>\n",
      "Int64Index: 2938 entries, 0 to 2937\n",
      "Data columns (total 22 columns):\n",
      " #   Column                           Non-Null Count  Dtype  \n",
      "---  ------                           --------------  -----  \n",
      " 0   Country                          2938 non-null   object \n",
      " 1   Year                             2938 non-null   int64  \n",
      " 2   Status                           2938 non-null   object \n",
      " 3   Life expectancy                  2928 non-null   float64\n",
      " 4   Adult Mortality                  2928 non-null   float64\n",
      " 5   Alcohol                          2744 non-null   float64\n",
      " 6   percentage expenditure           2938 non-null   float64\n",
      " 7   Total expenditure                2712 non-null   float64\n",
      " 8   GDP                              2490 non-null   float64\n",
      " 9   Population                       2286 non-null   float64\n",
      " 10  thinness  1-19 years             2904 non-null   float64\n",
      " 11  thinness 5-9 years               2904 non-null   float64\n",
      " 12  Income composition of resources  2771 non-null   float64\n",
      " 13  Schooling                        2775 non-null   float64\n",
      " 14  infant deaths                    2938 non-null   int64  \n",
      " 15  Hepatitis B                      2385 non-null   float64\n",
      " 16  Measles                          2938 non-null   int64  \n",
      " 17  BMI                              2904 non-null   float64\n",
      " 18  under-five deaths                2938 non-null   int64  \n",
      " 19  Polio                            2919 non-null   float64\n",
      " 20  Diphtheria                       2919 non-null   float64\n",
      " 21  HIV/AIDS                         2938 non-null   float64\n",
      "dtypes: float64(16), int64(4), object(2)\n",
      "memory usage: 527.9+ KB\n"
     ]
    }
   ],
   "source": [
    "df.drop(labels = 'UniqueKey', inplace=True, axis=1)\n",
    "df.info()"
   ]
  },
  {
   "cell_type": "markdown",
   "id": "b0ac71b7",
   "metadata": {
    "papermill": {
     "duration": 0.098693,
     "end_time": "2022-02-27T06:46:39.513882",
     "exception": false,
     "start_time": "2022-02-27T06:46:39.415189",
     "status": "completed"
    },
    "tags": []
   },
   "source": [
    "### Filling missing Values"
   ]
  },
  {
   "cell_type": "code",
   "execution_count": 32,
   "id": "363e35a3",
   "metadata": {
    "execution": {
     "iopub.execute_input": "2022-02-27T06:46:39.708717Z",
     "iopub.status.busy": "2022-02-27T06:46:39.707696Z",
     "iopub.status.idle": "2022-02-27T06:46:39.717543Z",
     "shell.execute_reply": "2022-02-27T06:46:39.718109Z",
     "shell.execute_reply.started": "2022-02-27T04:13:14.341726Z"
    },
    "papermill": {
     "duration": 0.104537,
     "end_time": "2022-02-27T06:46:39.718294",
     "exception": false,
     "start_time": "2022-02-27T06:46:39.613757",
     "status": "completed"
    },
    "tags": []
   },
   "outputs": [
    {
     "data": {
      "text/plain": [
       "Country                              0\n",
       "Year                                 0\n",
       "Status                               0\n",
       "Life expectancy                     10\n",
       "Adult Mortality                     10\n",
       "Alcohol                            194\n",
       "percentage expenditure               0\n",
       "Total expenditure                  226\n",
       "GDP                                448\n",
       "Population                         652\n",
       "thinness  1-19 years                34\n",
       "thinness 5-9 years                  34\n",
       "Income composition of resources    167\n",
       "Schooling                          163\n",
       "infant deaths                        0\n",
       "Hepatitis B                        553\n",
       "Measles                              0\n",
       "BMI                                 34\n",
       "under-five deaths                    0\n",
       "Polio                               19\n",
       "Diphtheria                          19\n",
       "HIV/AIDS                             0\n",
       "dtype: int64"
      ]
     },
     "execution_count": 32,
     "metadata": {},
     "output_type": "execute_result"
    }
   ],
   "source": [
    "df.isna().sum()"
   ]
  },
  {
   "cell_type": "code",
   "execution_count": 33,
   "id": "390a8521",
   "metadata": {
    "execution": {
     "iopub.execute_input": "2022-02-27T06:46:39.899019Z",
     "iopub.status.busy": "2022-02-27T06:46:39.898306Z",
     "iopub.status.idle": "2022-02-27T06:46:39.908285Z",
     "shell.execute_reply": "2022-02-27T06:46:39.909140Z",
     "shell.execute_reply.started": "2022-02-27T04:13:14.354536Z"
    },
    "papermill": {
     "duration": 0.10352,
     "end_time": "2022-02-27T06:46:39.909385",
     "exception": false,
     "start_time": "2022-02-27T06:46:39.805865",
     "status": "completed"
    },
    "tags": []
   },
   "outputs": [
    {
     "name": "stdout",
     "output_type": "stream",
     "text": [
      "<class 'pandas.core.frame.DataFrame'>\n",
      "Int64Index: 2938 entries, 0 to 2937\n",
      "Data columns (total 22 columns):\n",
      " #   Column                           Non-Null Count  Dtype  \n",
      "---  ------                           --------------  -----  \n",
      " 0   Country                          2938 non-null   object \n",
      " 1   Year                             2938 non-null   int64  \n",
      " 2   Status                           2938 non-null   object \n",
      " 3   Life expectancy                  2928 non-null   float64\n",
      " 4   Adult Mortality                  2928 non-null   float64\n",
      " 5   Alcohol                          2744 non-null   float64\n",
      " 6   percentage expenditure           2938 non-null   float64\n",
      " 7   Total expenditure                2712 non-null   float64\n",
      " 8   GDP                              2490 non-null   float64\n",
      " 9   Population                       2286 non-null   float64\n",
      " 10  thinness  1-19 years             2904 non-null   float64\n",
      " 11  thinness 5-9 years               2904 non-null   float64\n",
      " 12  Income composition of resources  2771 non-null   float64\n",
      " 13  Schooling                        2775 non-null   float64\n",
      " 14  infant deaths                    2938 non-null   int64  \n",
      " 15  Hepatitis B                      2385 non-null   float64\n",
      " 16  Measles                          2938 non-null   int64  \n",
      " 17  BMI                              2904 non-null   float64\n",
      " 18  under-five deaths                2938 non-null   int64  \n",
      " 19  Polio                            2919 non-null   float64\n",
      " 20  Diphtheria                       2919 non-null   float64\n",
      " 21  HIV/AIDS                         2938 non-null   float64\n",
      "dtypes: float64(16), int64(4), object(2)\n",
      "memory usage: 527.9+ KB\n"
     ]
    }
   ],
   "source": [
    "df.info()"
   ]
  },
  {
   "cell_type": "code",
   "execution_count": 34,
   "id": "5f46fbb2",
   "metadata": {
    "execution": {
     "iopub.execute_input": "2022-02-27T06:46:40.091779Z",
     "iopub.status.busy": "2022-02-27T06:46:40.091162Z",
     "iopub.status.idle": "2022-02-27T06:46:40.303176Z",
     "shell.execute_reply": "2022-02-27T06:46:40.303710Z",
     "shell.execute_reply.started": "2022-02-27T04:13:14.377474Z"
    },
    "papermill": {
     "duration": 0.305074,
     "end_time": "2022-02-27T06:46:40.303921",
     "exception": false,
     "start_time": "2022-02-27T06:46:39.998847",
     "status": "completed"
    },
    "tags": []
   },
   "outputs": [
    {
     "data": {
      "text/plain": [
       "(array([  4.,  50., 134., 229., 277., 405., 580., 819., 362.,  68.]),\n",
       " array([36.3 , 41.57, 46.84, 52.11, 57.38, 62.65, 67.92, 73.19, 78.46,\n",
       "        83.73, 89.  ]),\n",
       " <BarContainer object of 10 artists>)"
      ]
     },
     "execution_count": 34,
     "metadata": {},
     "output_type": "execute_result"
    },
    {
     "data": {
      "image/png": "[encoded data removed]",
      "text/plain": [
       "<Figure size 432x288 with 1 Axes>"
      ]
     },
     "metadata": {
      "needs_background": "light"
     },
     "output_type": "display_data"
    }
   ],
   "source": [
    "plt.hist(df['Life expectancy'])"
   ]
  },
  {
   "cell_type": "code",
   "execution_count": 35,
   "id": "1d92fdc8",
   "metadata": {
    "execution": {
     "iopub.execute_input": "2022-02-27T06:46:40.497003Z",
     "iopub.status.busy": "2022-02-27T06:46:40.496314Z",
     "iopub.status.idle": "2022-02-27T06:46:40.517538Z",
     "shell.execute_reply": "2022-02-27T06:46:40.518405Z",
     "shell.execute_reply.started": "2022-02-27T04:13:14.548943Z"
    },
    "papermill": {
     "duration": 0.121233,
     "end_time": "2022-02-27T06:46:40.518652",
     "exception": false,
     "start_time": "2022-02-27T06:46:40.397419",
     "status": "completed"
    },
    "tags": []
   },
   "outputs": [
    {
     "name": "stdout",
     "output_type": "stream",
     "text": [
      "filling col  Year  with value:::  2008.0\n",
      "filling col  Life expectancy  with value:::  72.1\n",
      "filling col  Adult Mortality  with value:::  144.0\n",
      "filling col  Alcohol  with value:::  3.755\n",
      "filling col  percentage expenditure  with value:::  64.912906045\n",
      "filling col  Total expenditure  with value:::  5.755\n",
      "filling col  GDP  with value:::  1766.947595\n",
      "filling col  Population  with value:::  1386542.0\n",
      "filling col  thinness  1-19 years  with value:::  3.3\n",
      "filling col  thinness 5-9 years  with value:::  3.3\n",
      "filling col  Income composition of resources  with value:::  0.677\n",
      "filling col  Schooling  with value:::  12.3\n",
      "filling col  infant deaths  with value:::  3.0\n",
      "filling col  Hepatitis B  with value:::  92.0\n",
      "filling col  Measles  with value:::  17.0\n",
      "filling col  BMI  with value:::  43.5\n",
      "filling col  under-five deaths  with value:::  4.0\n",
      "filling col  Polio  with value:::  93.0\n",
      "filling col  Diphtheria  with value:::  93.0\n",
      "filling col  HIV/AIDS  with value:::  0.1\n"
     ]
    }
   ],
   "source": [
    "cols = df.columns\n",
    "\n",
    "for col in cols:\n",
    "    if df[col].dtypes != 'object':\n",
    "        df[col].fillna(value = df[col].median(), inplace = True)\n",
    "        print('filling col ', col, ' with value::: ', df[col].median())"
   ]
  },
  {
   "cell_type": "code",
   "execution_count": 36,
   "id": "e95e24a6",
   "metadata": {
    "execution": {
     "iopub.execute_input": "2022-02-27T06:46:40.705209Z",
     "iopub.status.busy": "2022-02-27T06:46:40.704524Z",
     "iopub.status.idle": "2022-02-27T06:46:40.715949Z",
     "shell.execute_reply": "2022-02-27T06:46:40.715329Z",
     "shell.execute_reply.started": "2022-02-27T04:13:14.582847Z"
    },
    "papermill": {
     "duration": 0.104877,
     "end_time": "2022-02-27T06:46:40.716105",
     "exception": false,
     "start_time": "2022-02-27T06:46:40.611228",
     "status": "completed"
    },
    "tags": []
   },
   "outputs": [
    {
     "data": {
      "text/plain": [
       "Country                            0\n",
       "Year                               0\n",
       "Status                             0\n",
       "Life expectancy                    0\n",
       "Adult Mortality                    0\n",
       "Alcohol                            0\n",
       "percentage expenditure             0\n",
       "Total expenditure                  0\n",
       "GDP                                0\n",
       "Population                         0\n",
       "thinness  1-19 years               0\n",
       "thinness 5-9 years                 0\n",
       "Income composition of resources    0\n",
       "Schooling                          0\n",
       "infant deaths                      0\n",
       "Hepatitis B                        0\n",
       "Measles                            0\n",
       "BMI                                0\n",
       "under-five deaths                  0\n",
       "Polio                              0\n",
       "Diphtheria                         0\n",
       "HIV/AIDS                           0\n",
       "dtype: int64"
      ]
     },
     "execution_count": 36,
     "metadata": {},
     "output_type": "execute_result"
    }
   ],
   "source": [
    "df.isna().sum()"
   ]
  },
  {
   "cell_type": "markdown",
   "id": "27d078ad",
   "metadata": {
    "papermill": {
     "duration": 0.090829,
     "end_time": "2022-02-27T06:46:40.897867",
     "exception": false,
     "start_time": "2022-02-27T06:46:40.807038",
     "status": "completed"
    },
    "tags": []
   },
   "source": [
    "## Scenario 3:  \n",
    "\n",
    "Your managers want an urgent report for coming up with a plan for effectively allocating expenses for the healthcare sector. Making queries and analyzing data using dataframe operations is time consuming. You decide to move ahead with a visualization method to draw more insights and find relationships between different columns.\n",
    "\n",
    "**Task 1:**\n",
    "\n",
    "You can start exploring a single column at a time and draw key insights. There are a few categorical types and others numerical type columns. Your job is to pick up the key important columns. Start by following the below tasks.\n",
    "\n",
    "●\tShow the distribution chart for Life expectancy. Also make sure to label x axis, y axis and title.\n",
    "\n",
    "●\tShow the distribution of Status features using seaborn , showing count of each record.  Here also, x axis, y axis and title shall be visible clearly.\n"
   ]
  },
  {
   "cell_type": "code",
   "execution_count": 37,
   "id": "b43561fa",
   "metadata": {
    "execution": {
     "iopub.execute_input": "2022-02-27T06:46:41.083584Z",
     "iopub.status.busy": "2022-02-27T06:46:41.082839Z",
     "iopub.status.idle": "2022-02-27T06:46:41.095573Z",
     "shell.execute_reply": "2022-02-27T06:46:41.096134Z",
     "shell.execute_reply.started": "2022-02-27T04:13:14.594149Z"
    },
    "papermill": {
     "duration": 0.10736,
     "end_time": "2022-02-27T06:46:41.096317",
     "exception": false,
     "start_time": "2022-02-27T06:46:40.988957",
     "status": "completed"
    },
    "tags": []
   },
   "outputs": [
    {
     "name": "stdout",
     "output_type": "stream",
     "text": [
      "<class 'pandas.core.frame.DataFrame'>\n",
      "Int64Index: 2938 entries, 0 to 2937\n",
      "Data columns (total 22 columns):\n",
      " #   Column                           Non-Null Count  Dtype  \n",
      "---  ------                           --------------  -----  \n",
      " 0   Country                          2938 non-null   object \n",
      " 1   Year                             2938 non-null   int64  \n",
      " 2   Status                           2938 non-null   object \n",
      " 3   Life expectancy                  2938 non-null   float64\n",
      " 4   Adult Mortality                  2938 non-null   float64\n",
      " 5   Alcohol                          2938 non-null   float64\n",
      " 6   percentage expenditure           2938 non-null   float64\n",
      " 7   Total expenditure                2938 non-null   float64\n",
      " 8   GDP                              2938 non-null   float64\n",
      " 9   Population                       2938 non-null   float64\n",
      " 10  thinness  1-19 years             2938 non-null   float64\n",
      " 11  thinness 5-9 years               2938 non-null   float64\n",
      " 12  Income composition of resources  2938 non-null   float64\n",
      " 13  Schooling                        2938 non-null   float64\n",
      " 14  infant deaths                    2938 non-null   int64  \n",
      " 15  Hepatitis B                      2938 non-null   float64\n",
      " 16  Measles                          2938 non-null   int64  \n",
      " 17  BMI                              2938 non-null   float64\n",
      " 18  under-five deaths                2938 non-null   int64  \n",
      " 19  Polio                            2938 non-null   float64\n",
      " 20  Diphtheria                       2938 non-null   float64\n",
      " 21  HIV/AIDS                         2938 non-null   float64\n",
      "dtypes: float64(16), int64(4), object(2)\n",
      "memory usage: 527.9+ KB\n"
     ]
    }
   ],
   "source": [
    "df.info()"
   ]
  },
  {
   "cell_type": "code",
   "execution_count": 38,
   "id": "0b9e4e58",
   "metadata": {
    "execution": {
     "iopub.execute_input": "2022-02-27T06:46:41.279908Z",
     "iopub.status.busy": "2022-02-27T06:46:41.279233Z",
     "iopub.status.idle": "2022-02-27T06:46:41.452391Z",
     "shell.execute_reply": "2022-02-27T06:46:41.453030Z",
     "shell.execute_reply.started": "2022-02-27T04:13:14.616123Z"
    },
    "papermill": {
     "duration": 0.266996,
     "end_time": "2022-02-27T06:46:41.453219",
     "exception": false,
     "start_time": "2022-02-27T06:46:41.186223",
     "status": "completed"
    },
    "tags": []
   },
   "outputs": [
    {
     "data": {
      "image/png": "[encoded data removed]",
      "text/plain": [
       "<Figure size 720x360 with 1 Axes>"
      ]
     },
     "metadata": {
      "needs_background": "light"
     },
     "output_type": "display_data"
    }
   ],
   "source": [
    "plt.figure(figsize=(10,5))\n",
    "plt.hist(df['Life expectancy'])\n",
    "plt.xlabel('Life Expectancy', fontsize=12)\n",
    "plt.ylabel('Frequency', fontsize=12)\n",
    "plt.title('Life Expectancy distribution', fontsize=20)\n",
    "plt.show()"
   ]
  },
  {
   "cell_type": "code",
   "execution_count": 39,
   "id": "af33e919",
   "metadata": {
    "execution": {
     "iopub.execute_input": "2022-02-27T06:46:41.641168Z",
     "iopub.status.busy": "2022-02-27T06:46:41.640498Z",
     "iopub.status.idle": "2022-02-27T06:46:41.845058Z",
     "shell.execute_reply": "2022-02-27T06:46:41.844365Z",
     "shell.execute_reply.started": "2022-02-27T04:13:14.801329Z"
    },
    "papermill": {
     "duration": 0.30016,
     "end_time": "2022-02-27T06:46:41.845268",
     "exception": false,
     "start_time": "2022-02-27T06:46:41.545108",
     "status": "completed"
    },
    "tags": []
   },
   "outputs": [
    {
     "data": {
      "text/plain": [
       "Text(0.5, 1.0, 'Status distribution')"
      ]
     },
     "execution_count": 39,
     "metadata": {},
     "output_type": "execute_result"
    },
    {
     "data": {
      "image/png": "[encoded data removed]",
      "text/plain": [
       "<Figure size 432x288 with 1 Axes>"
      ]
     },
     "metadata": {
      "needs_background": "light"
     },
     "output_type": "display_data"
    }
   ],
   "source": [
    "sns.histplot(x=df['Status'])\n",
    "plt.xlabel('Status', fontsize=12)\n",
    "plt.ylabel('Count', fontsize=12)\n",
    "plt.title('Status distribution', fontsize=20)"
   ]
  },
  {
   "cell_type": "code",
   "execution_count": 40,
   "id": "990745e0",
   "metadata": {
    "execution": {
     "iopub.execute_input": "2022-02-27T06:46:42.049485Z",
     "iopub.status.busy": "2022-02-27T06:46:42.048785Z",
     "iopub.status.idle": "2022-02-27T06:46:42.055864Z",
     "shell.execute_reply": "2022-02-27T06:46:42.056388Z",
     "shell.execute_reply.started": "2022-02-27T04:13:14.939264Z"
    },
    "papermill": {
     "duration": 0.104198,
     "end_time": "2022-02-27T06:46:42.056559",
     "exception": false,
     "start_time": "2022-02-27T06:46:41.952361",
     "status": "completed"
    },
    "tags": []
   },
   "outputs": [
    {
     "data": {
      "text/plain": [
       "Developing    2426\n",
       "Developed      512\n",
       "Name: Status, dtype: int64"
      ]
     },
     "execution_count": 40,
     "metadata": {},
     "output_type": "execute_result"
    }
   ],
   "source": [
    "df['Status'].value_counts()"
   ]
  },
  {
   "cell_type": "code",
   "execution_count": 41,
   "id": "10606535",
   "metadata": {
    "execution": {
     "iopub.execute_input": "2022-02-27T06:46:42.250898Z",
     "iopub.status.busy": "2022-02-27T06:46:42.250207Z",
     "iopub.status.idle": "2022-02-27T06:46:42.525811Z",
     "shell.execute_reply": "2022-02-27T06:46:42.526698Z",
     "shell.execute_reply.started": "2022-02-27T04:13:14.949795Z"
    },
    "papermill": {
     "duration": 0.377512,
     "end_time": "2022-02-27T06:46:42.527033",
     "exception": false,
     "start_time": "2022-02-27T06:46:42.149521",
     "status": "completed"
    },
    "tags": []
   },
   "outputs": [
    {
     "data": {
      "text/plain": [
       "<AxesSubplot:ylabel='percentage expenditure'>"
      ]
     },
     "execution_count": 41,
     "metadata": {},
     "output_type": "execute_result"
    },
    {
     "data": {
      "text/plain": [
       "<Figure size 720x720 with 0 Axes>"
      ]
     },
     "metadata": {},
     "output_type": "display_data"
    },
    {
     "data": {
      "image/png": "[encoded data removed]",
      "text/plain": [
       "<Figure size 432x288 with 1 Axes>"
      ]
     },
     "metadata": {},
     "output_type": "display_data"
    }
   ],
   "source": [
    "plt.figure(figsize=(10,10))\n",
    "\n",
    "df.groupby('Status').mean().plot(kind = 'pie', y = 'percentage expenditure', autopct='%1.1f%%')"
   ]
  },
  {
   "cell_type": "code",
   "execution_count": 42,
   "id": "a47e5b8c",
   "metadata": {
    "execution": {
     "iopub.execute_input": "2022-02-27T06:46:42.742554Z",
     "iopub.status.busy": "2022-02-27T06:46:42.741846Z",
     "iopub.status.idle": "2022-02-27T06:46:42.942614Z",
     "shell.execute_reply": "2022-02-27T06:46:42.943234Z",
     "shell.execute_reply.started": "2022-02-27T04:13:15.126440Z"
    },
    "papermill": {
     "duration": 0.301298,
     "end_time": "2022-02-27T06:46:42.943421",
     "exception": false,
     "start_time": "2022-02-27T06:46:42.642123",
     "status": "completed"
    },
    "tags": []
   },
   "outputs": [
    {
     "data": {
      "text/plain": [
       "<AxesSubplot:xlabel='Status'>"
      ]
     },
     "execution_count": 42,
     "metadata": {},
     "output_type": "execute_result"
    },
    {
     "data": {
      "image/png": "[encoded data removed]",
      "text/plain": [
       "<Figure size 432x288 with 1 Axes>"
      ]
     },
     "metadata": {
      "needs_background": "light"
     },
     "output_type": "display_data"
    }
   ],
   "source": [
    "df.groupby('Status').mean()['Life expectancy'].plot(kind = 'bar')"
   ]
  },
  {
   "cell_type": "code",
   "execution_count": 43,
   "id": "ca6e91f8",
   "metadata": {
    "execution": {
     "iopub.execute_input": "2022-02-27T06:46:43.144976Z",
     "iopub.status.busy": "2022-02-27T06:46:43.143694Z",
     "iopub.status.idle": "2022-02-27T06:46:43.168533Z",
     "shell.execute_reply": "2022-02-27T06:46:43.169016Z",
     "shell.execute_reply.started": "2022-02-27T04:13:15.271781Z"
    },
    "papermill": {
     "duration": 0.127233,
     "end_time": "2022-02-27T06:46:43.169209",
     "exception": false,
     "start_time": "2022-02-27T06:46:43.041976",
     "status": "completed"
    },
    "tags": []
   },
   "outputs": [
    {
     "data": {
      "text/html": [
       "<div>\n",
       "<style scoped>\n",
       "    .dataframe tbody tr th:only-of-type {\n",
       "        vertical-align: middle;\n",
       "    }\n",
       "\n",
       "    .dataframe tbody tr th {\n",
       "        vertical-align: top;\n",
       "    }\n",
       "\n",
       "    .dataframe thead th {\n",
       "        text-align: right;\n",
       "    }\n",
       "</style>\n",
       "<table border=\"1\" class=\"dataframe\">\n",
       "  <thead>\n",
       "    <tr style=\"text-align: right;\">\n",
       "      <th></th>\n",
       "      <th>Year</th>\n",
       "      <th>Life expectancy</th>\n",
       "      <th>Adult Mortality</th>\n",
       "      <th>Alcohol</th>\n",
       "      <th>percentage expenditure</th>\n",
       "      <th>Total expenditure</th>\n",
       "      <th>GDP</th>\n",
       "      <th>Population</th>\n",
       "      <th>thinness  1-19 years</th>\n",
       "      <th>thinness 5-9 years</th>\n",
       "      <th>Income composition of resources</th>\n",
       "      <th>Schooling</th>\n",
       "      <th>infant deaths</th>\n",
       "      <th>Hepatitis B</th>\n",
       "      <th>Measles</th>\n",
       "      <th>BMI</th>\n",
       "      <th>under-five deaths</th>\n",
       "      <th>Polio</th>\n",
       "      <th>Diphtheria</th>\n",
       "      <th>HIV/AIDS</th>\n",
       "    </tr>\n",
       "    <tr>\n",
       "      <th>Status</th>\n",
       "      <th></th>\n",
       "      <th></th>\n",
       "      <th></th>\n",
       "      <th></th>\n",
       "      <th></th>\n",
       "      <th></th>\n",
       "      <th></th>\n",
       "      <th></th>\n",
       "      <th></th>\n",
       "      <th></th>\n",
       "      <th></th>\n",
       "      <th></th>\n",
       "      <th></th>\n",
       "      <th></th>\n",
       "      <th></th>\n",
       "      <th></th>\n",
       "      <th></th>\n",
       "      <th></th>\n",
       "      <th></th>\n",
       "      <th></th>\n",
       "    </tr>\n",
       "  </thead>\n",
       "  <tbody>\n",
       "    <tr>\n",
       "      <th>Developed</th>\n",
       "      <td>2007.500000</td>\n",
       "      <td>79.197852</td>\n",
       "      <td>79.685547</td>\n",
       "      <td>9.494687</td>\n",
       "      <td>2703.600380</td>\n",
       "      <td>7.441602</td>\n",
       "      <td>19517.581590</td>\n",
       "      <td>5.809395e+06</td>\n",
       "      <td>1.320703</td>\n",
       "      <td>1.296680</td>\n",
       "      <td>0.836037</td>\n",
       "      <td>15.513086</td>\n",
       "      <td>1.494141</td>\n",
       "      <td>89.378906</td>\n",
       "      <td>499.005859</td>\n",
       "      <td>51.803906</td>\n",
       "      <td>1.810547</td>\n",
       "      <td>93.736328</td>\n",
       "      <td>93.476562</td>\n",
       "      <td>0.100000</td>\n",
       "    </tr>\n",
       "    <tr>\n",
       "      <th>Developing</th>\n",
       "      <td>2007.522671</td>\n",
       "      <td>67.132028</td>\n",
       "      <td>182.673124</td>\n",
       "      <td>3.502655</td>\n",
       "      <td>323.470285</td>\n",
       "      <td>5.603833</td>\n",
       "      <td>3887.739215</td>\n",
       "      <td>1.116399e+07</td>\n",
       "      <td>5.560800</td>\n",
       "      <td>5.602514</td>\n",
       "      <td>0.586955</td>\n",
       "      <td>11.270486</td>\n",
       "      <td>36.384171</td>\n",
       "      <td>81.680544</td>\n",
       "      <td>2824.926216</td>\n",
       "      <td>35.548351</td>\n",
       "      <td>50.525144</td>\n",
       "      <td>80.271228</td>\n",
       "      <td>80.053998</td>\n",
       "      <td>2.088664</td>\n",
       "    </tr>\n",
       "  </tbody>\n",
       "</table>\n",
       "</div>"
      ],
      "text/plain": [
       "                   Year  Life expectancy  Adult Mortality   Alcohol  \\\n",
       "Status                                                                \n",
       "Developed   2007.500000        79.197852        79.685547  9.494687   \n",
       "Developing  2007.522671        67.132028       182.673124  3.502655   \n",
       "\n",
       "            percentage expenditure  Total expenditure           GDP  \\\n",
       "Status                                                                \n",
       "Developed              2703.600380           7.441602  19517.581590   \n",
       "Developing              323.470285           5.603833   3887.739215   \n",
       "\n",
       "              Population  thinness  1-19 years  thinness 5-9 years  \\\n",
       "Status                                                               \n",
       "Developed   5.809395e+06              1.320703            1.296680   \n",
       "Developing  1.116399e+07              5.560800            5.602514   \n",
       "\n",
       "            Income composition of resources  Schooling  infant deaths  \\\n",
       "Status                                                                  \n",
       "Developed                          0.836037  15.513086       1.494141   \n",
       "Developing                         0.586955  11.270486      36.384171   \n",
       "\n",
       "            Hepatitis B      Measles        BMI  under-five deaths      Polio  \\\n",
       "Status                                                                          \n",
       "Developed     89.378906   499.005859  51.803906           1.810547  93.736328   \n",
       "Developing    81.680544  2824.926216  35.548351          50.525144  80.271228   \n",
       "\n",
       "            Diphtheria  HIV/AIDS  \n",
       "Status                            \n",
       "Developed    93.476562  0.100000  \n",
       "Developing   80.053998  2.088664  "
      ]
     },
     "execution_count": 43,
     "metadata": {},
     "output_type": "execute_result"
    }
   ],
   "source": [
    "df.groupby('Status').mean()"
   ]
  },
  {
   "cell_type": "code",
   "execution_count": 44,
   "id": "be8c8fa9",
   "metadata": {
    "execution": {
     "iopub.execute_input": "2022-02-27T06:46:43.373603Z",
     "iopub.status.busy": "2022-02-27T06:46:43.368993Z",
     "iopub.status.idle": "2022-02-27T06:46:43.380375Z",
     "shell.execute_reply": "2022-02-27T06:46:43.380906Z",
     "shell.execute_reply.started": "2022-02-27T04:13:15.299927Z"
    },
    "papermill": {
     "duration": 0.114853,
     "end_time": "2022-02-27T06:46:43.381102",
     "exception": false,
     "start_time": "2022-02-27T06:46:43.266249",
     "status": "completed"
    },
    "tags": []
   },
   "outputs": [
    {
     "data": {
      "text/plain": [
       "Status\n",
       "Developed     19517.581590\n",
       "Developing     3887.739215\n",
       "Name: GDP, dtype: float64"
      ]
     },
     "execution_count": 44,
     "metadata": {},
     "output_type": "execute_result"
    }
   ],
   "source": [
    "df.groupby('Status').mean()['GDP']"
   ]
  },
  {
   "cell_type": "code",
   "execution_count": 45,
   "id": "aa576af0",
   "metadata": {
    "execution": {
     "iopub.execute_input": "2022-02-27T06:46:43.587864Z",
     "iopub.status.busy": "2022-02-27T06:46:43.587140Z",
     "iopub.status.idle": "2022-02-27T06:46:43.791055Z",
     "shell.execute_reply": "2022-02-27T06:46:43.790416Z",
     "shell.execute_reply.started": "2022-02-27T04:13:15.309966Z"
    },
    "papermill": {
     "duration": 0.307818,
     "end_time": "2022-02-27T06:46:43.791215",
     "exception": false,
     "start_time": "2022-02-27T06:46:43.483397",
     "status": "completed"
    },
    "tags": []
   },
   "outputs": [
    {
     "data": {
      "text/plain": [
       "<AxesSubplot:xlabel='Status'>"
      ]
     },
     "execution_count": 45,
     "metadata": {},
     "output_type": "execute_result"
    },
    {
     "data": {
      "image/png": "[encoded data removed]",
      "text/plain": [
       "<Figure size 432x288 with 1 Axes>"
      ]
     },
     "metadata": {
      "needs_background": "light"
     },
     "output_type": "display_data"
    }
   ],
   "source": [
    "df.groupby('Status').mean()['GDP'].plot(kind='bar')"
   ]
  },
  {
   "cell_type": "code",
   "execution_count": 46,
   "id": "1823573e",
   "metadata": {
    "execution": {
     "iopub.execute_input": "2022-02-27T06:46:43.994895Z",
     "iopub.status.busy": "2022-02-27T06:46:43.994180Z",
     "iopub.status.idle": "2022-02-27T06:46:44.168468Z",
     "shell.execute_reply": "2022-02-27T06:46:44.167928Z",
     "shell.execute_reply.started": "2022-02-27T04:13:15.457779Z"
    },
    "papermill": {
     "duration": 0.276364,
     "end_time": "2022-02-27T06:46:44.168619",
     "exception": false,
     "start_time": "2022-02-27T06:46:43.892255",
     "status": "completed"
    },
    "tags": []
   },
   "outputs": [
    {
     "data": {
      "text/plain": [
       "<AxesSubplot:xlabel='Status', ylabel='count'>"
      ]
     },
     "execution_count": 46,
     "metadata": {},
     "output_type": "execute_result"
    },
    {
     "data": {
      "image/png": "[encoded data removed]",
      "text/plain": [
       "<Figure size 432x288 with 1 Axes>"
      ]
     },
     "metadata": {
      "needs_background": "light"
     },
     "output_type": "display_data"
    }
   ],
   "source": [
    "sns.countplot(x = df['Status'])"
   ]
  },
  {
   "cell_type": "code",
   "execution_count": 47,
   "id": "5bcac253",
   "metadata": {
    "execution": {
     "iopub.execute_input": "2022-02-27T06:46:44.372967Z",
     "iopub.status.busy": "2022-02-27T06:46:44.372096Z",
     "iopub.status.idle": "2022-02-27T06:46:44.379586Z",
     "shell.execute_reply": "2022-02-27T06:46:44.378924Z",
     "shell.execute_reply.started": "2022-02-27T04:13:15.576911Z"
    },
    "papermill": {
     "duration": 0.111452,
     "end_time": "2022-02-27T06:46:44.379733",
     "exception": false,
     "start_time": "2022-02-27T06:46:44.268281",
     "status": "completed"
    },
    "tags": []
   },
   "outputs": [
    {
     "data": {
      "text/plain": [
       "Developing    2426\n",
       "Developed      512\n",
       "Name: Status, dtype: int64"
      ]
     },
     "execution_count": 47,
     "metadata": {},
     "output_type": "execute_result"
    }
   ],
   "source": [
    "df['Status'].value_counts()"
   ]
  },
  {
   "cell_type": "markdown",
   "id": "e0828bfe",
   "metadata": {
    "papermill": {
     "duration": 0.099754,
     "end_time": "2022-02-27T06:46:44.581001",
     "exception": false,
     "start_time": "2022-02-27T06:46:44.481247",
     "status": "completed"
    },
    "tags": []
   },
   "source": [
    "**Task 2:** \n",
    "\n",
    "There is a lot of information present and you can successfully draw more insights using two columns at a time. This is known as bivariate analysis. Since the report is urgent, you shall focus on comparing columns that are wrapped around more on expenses, life expectancy and year. Each of the tasks shall be articulated, highlighting title, x axis name and y axis name.\n",
    "\n",
    "Note: Line plot plays a very critical role to analyze the growth of a country in respect to years.\n",
    "\n",
    "●\tShow the ‘Total expenditure’ done against the Year, using the line plot.\n",
    "\n",
    "●\tShow how ‘Life expectancy’ changed over the years, using line plots.\n",
    "\n",
    "●\tCompare the features of Life expectancy and Schooling. \n",
    "\n",
    "●\tWhat is the trend followed for life expectancy against the status of countries? Draw the insights using seaborn bar chart\n"
   ]
  },
  {
   "cell_type": "code",
   "execution_count": 48,
   "id": "3e137681",
   "metadata": {
    "execution": {
     "iopub.execute_input": "2022-02-27T06:46:44.789186Z",
     "iopub.status.busy": "2022-02-27T06:46:44.788448Z",
     "iopub.status.idle": "2022-02-27T06:46:45.600842Z",
     "shell.execute_reply": "2022-02-27T06:46:45.601370Z",
     "shell.execute_reply.started": "2022-02-27T04:13:15.585022Z"
    },
    "papermill": {
     "duration": 0.920431,
     "end_time": "2022-02-27T06:46:45.601542",
     "exception": false,
     "start_time": "2022-02-27T06:46:44.681111",
     "status": "completed"
    },
    "tags": []
   },
   "outputs": [
    {
     "data": {
      "text/plain": [
       "<AxesSubplot:xlabel='Year', ylabel='Total expenditure'>"
      ]
     },
     "execution_count": 48,
     "metadata": {},
     "output_type": "execute_result"
    },
    {
     "data": {
      "image/png": "[encoded data removed]",
      "text/plain": [
       "<Figure size 720x360 with 1 Axes>"
      ]
     },
     "metadata": {
      "needs_background": "light"
     },
     "output_type": "display_data"
    }
   ],
   "source": [
    "plt.figure(figsize=(10,5))\n",
    "sns.lineplot(x = df['Year'], y=df['Total expenditure'] )"
   ]
  },
  {
   "cell_type": "code",
   "execution_count": 49,
   "id": "583215d9",
   "metadata": {
    "execution": {
     "iopub.execute_input": "2022-02-27T06:46:45.832617Z",
     "iopub.status.busy": "2022-02-27T06:46:45.831958Z",
     "iopub.status.idle": "2022-02-27T06:46:47.159395Z",
     "shell.execute_reply": "2022-02-27T06:46:47.158471Z",
     "shell.execute_reply.started": "2022-02-27T04:13:16.161105Z"
    },
    "papermill": {
     "duration": 1.45069,
     "end_time": "2022-02-27T06:46:47.159574",
     "exception": false,
     "start_time": "2022-02-27T06:46:45.708884",
     "status": "completed"
    },
    "tags": []
   },
   "outputs": [
    {
     "data": {
      "text/plain": [
       "<AxesSubplot:xlabel='Year', ylabel='Total expenditure'>"
      ]
     },
     "execution_count": 49,
     "metadata": {},
     "output_type": "execute_result"
    },
    {
     "data": {
      "image/png": "[encoded data removed]",
      "text/plain": [
       "<Figure size 720x360 with 1 Axes>"
      ]
     },
     "metadata": {
      "needs_background": "light"
     },
     "output_type": "display_data"
    }
   ],
   "source": [
    "plt.figure(figsize=(10,5))\n",
    "\n",
    "sns.lineplot(x = df['Year'], y=df['Total expenditure'], hue = df['Status'] )"
   ]
  },
  {
   "cell_type": "code",
   "execution_count": 50,
   "id": "470f9a2f",
   "metadata": {
    "execution": {
     "iopub.execute_input": "2022-02-27T06:46:47.387116Z",
     "iopub.status.busy": "2022-02-27T06:46:47.386358Z",
     "iopub.status.idle": "2022-02-27T06:46:48.165048Z",
     "shell.execute_reply": "2022-02-27T06:46:48.164406Z",
     "shell.execute_reply.started": "2022-02-27T04:13:17.011692Z"
    },
    "papermill": {
     "duration": 0.89329,
     "end_time": "2022-02-27T06:46:48.165197",
     "exception": false,
     "start_time": "2022-02-27T06:46:47.271907",
     "status": "completed"
    },
    "tags": []
   },
   "outputs": [
    {
     "data": {
      "text/plain": [
       "<AxesSubplot:xlabel='Year', ylabel='Life expectancy'>"
      ]
     },
     "execution_count": 50,
     "metadata": {},
     "output_type": "execute_result"
    },
    {
     "data": {
      "image/png": "[encoded data removed]",
      "text/plain": [
       "<Figure size 720x360 with 1 Axes>"
      ]
     },
     "metadata": {
      "needs_background": "light"
     },
     "output_type": "display_data"
    }
   ],
   "source": [
    "plt.figure(figsize=(10,5))\n",
    "sns.lineplot(x = df['Year'], y=df['Life expectancy'] )"
   ]
  },
  {
   "cell_type": "code",
   "execution_count": 51,
   "id": "920e8e78",
   "metadata": {
    "execution": {
     "iopub.execute_input": "2022-02-27T06:46:48.384199Z",
     "iopub.status.busy": "2022-02-27T06:46:48.383128Z",
     "iopub.status.idle": "2022-02-27T06:46:49.750918Z",
     "shell.execute_reply": "2022-02-27T06:46:49.750267Z",
     "shell.execute_reply.started": "2022-02-27T04:13:17.704919Z"
    },
    "papermill": {
     "duration": 1.477212,
     "end_time": "2022-02-27T06:46:49.751074",
     "exception": false,
     "start_time": "2022-02-27T06:46:48.273862",
     "status": "completed"
    },
    "tags": []
   },
   "outputs": [
    {
     "data": {
      "text/plain": [
       "<AxesSubplot:xlabel='Year', ylabel='Life expectancy'>"
      ]
     },
     "execution_count": 51,
     "metadata": {},
     "output_type": "execute_result"
    },
    {
     "data": {
      "image/png": "[encoded data removed]",
      "text/plain": [
       "<Figure size 720x360 with 1 Axes>"
      ]
     },
     "metadata": {
      "needs_background": "light"
     },
     "output_type": "display_data"
    }
   ],
   "source": [
    "plt.figure(figsize=(10,5))\n",
    "sns.lineplot(x = df['Year'], y=df['Life expectancy'], hue = df['Status'], marker='o' )"
   ]
  },
  {
   "cell_type": "code",
   "execution_count": 52,
   "id": "8b1ac4e6",
   "metadata": {
    "execution": {
     "iopub.execute_input": "2022-02-27T06:46:50.123835Z",
     "iopub.status.busy": "2022-02-27T06:46:50.122694Z",
     "iopub.status.idle": "2022-02-27T06:46:51.162993Z",
     "shell.execute_reply": "2022-02-27T06:46:51.163537Z",
     "shell.execute_reply.started": "2022-02-27T04:13:18.575153Z"
    },
    "papermill": {
     "duration": 1.301725,
     "end_time": "2022-02-27T06:46:51.163711",
     "exception": false,
     "start_time": "2022-02-27T06:46:49.861986",
     "status": "completed"
    },
    "tags": []
   },
   "outputs": [
    {
     "name": "stderr",
     "output_type": "stream",
     "text": [
      "/opt/conda/lib/python3.7/site-packages/seaborn/_decorators.py:43: FutureWarning: Pass the following variables as keyword args: x, y. From version 0.12, the only valid positional argument will be `data`, and passing other arguments without an explicit keyword will result in an error or misinterpretation.\n",
      "  FutureWarning\n"
     ]
    },
    {
     "data": {
      "text/plain": [
       "<seaborn.axisgrid.JointGrid at 0x7f18d8a818d0>"
      ]
     },
     "execution_count": 52,
     "metadata": {},
     "output_type": "execute_result"
    },
    {
     "data": {
      "image/png": "[encoded data removed]",
      "text/plain": [
       "<Figure size 432x288 with 1 Axes>"
      ]
     },
     "metadata": {
      "needs_background": "light"
     },
     "output_type": "display_data"
    },
    {
     "data": {
      "image/png": "[encoded data removed]",
      "text/plain": [
       "<Figure size 432x432 with 3 Axes>"
      ]
     },
     "metadata": {
      "needs_background": "light"
     },
     "output_type": "display_data"
    }
   ],
   "source": [
    "plt.scatter(df['Life expectancy'], df['Schooling'])\n",
    "sns.jointplot(df['Life expectancy'], df['Schooling'], hue=df['Status'])"
   ]
  },
  {
   "cell_type": "code",
   "execution_count": 53,
   "id": "12557bf7",
   "metadata": {
    "execution": {
     "iopub.execute_input": "2022-02-27T06:46:51.392096Z",
     "iopub.status.busy": "2022-02-27T06:46:51.391115Z",
     "iopub.status.idle": "2022-02-27T06:46:51.678019Z",
     "shell.execute_reply": "2022-02-27T06:46:51.678484Z",
     "shell.execute_reply.started": "2022-02-27T04:13:19.317075Z"
    },
    "papermill": {
     "duration": 0.402526,
     "end_time": "2022-02-27T06:46:51.678670",
     "exception": false,
     "start_time": "2022-02-27T06:46:51.276144",
     "status": "completed"
    },
    "tags": []
   },
   "outputs": [
    {
     "data": {
      "text/plain": [
       "<AxesSubplot:xlabel='Status', ylabel='Life expectancy'>"
      ]
     },
     "execution_count": 53,
     "metadata": {},
     "output_type": "execute_result"
    },
    {
     "data": {
      "image/png": "[encoded data removed]",
      "text/plain": [
       "<Figure size 432x288 with 1 Axes>"
      ]
     },
     "metadata": {
      "needs_background": "light"
     },
     "output_type": "display_data"
    }
   ],
   "source": [
    "sns.barplot(x = df['Status'], y = df['Life expectancy'])"
   ]
  },
  {
   "cell_type": "code",
   "execution_count": 54,
   "id": "d522407d",
   "metadata": {
    "execution": {
     "iopub.execute_input": "2022-02-27T06:46:51.917278Z",
     "iopub.status.busy": "2022-02-27T06:46:51.916586Z",
     "iopub.status.idle": "2022-02-27T06:46:51.960480Z",
     "shell.execute_reply": "2022-02-27T06:46:51.961024Z",
     "shell.execute_reply.started": "2022-02-27T04:13:19.520657Z"
    },
    "papermill": {
     "duration": 0.167268,
     "end_time": "2022-02-27T06:46:51.961206",
     "exception": false,
     "start_time": "2022-02-27T06:46:51.793938",
     "status": "completed"
    },
    "tags": []
   },
   "outputs": [
    {
     "data": {
      "text/html": [
       "<div>\n",
       "<style scoped>\n",
       "    .dataframe tbody tr th:only-of-type {\n",
       "        vertical-align: middle;\n",
       "    }\n",
       "\n",
       "    .dataframe tbody tr th {\n",
       "        vertical-align: top;\n",
       "    }\n",
       "\n",
       "    .dataframe thead th {\n",
       "        text-align: right;\n",
       "    }\n",
       "</style>\n",
       "<table border=\"1\" class=\"dataframe\">\n",
       "  <thead>\n",
       "    <tr style=\"text-align: right;\">\n",
       "      <th></th>\n",
       "      <th>Country</th>\n",
       "      <th>Year</th>\n",
       "      <th>Status</th>\n",
       "      <th>Life expectancy</th>\n",
       "      <th>Adult Mortality</th>\n",
       "      <th>Alcohol</th>\n",
       "      <th>percentage expenditure</th>\n",
       "      <th>Total expenditure</th>\n",
       "      <th>GDP</th>\n",
       "      <th>Population</th>\n",
       "      <th>...</th>\n",
       "      <th>Income composition of resources</th>\n",
       "      <th>Schooling</th>\n",
       "      <th>infant deaths</th>\n",
       "      <th>Hepatitis B</th>\n",
       "      <th>Measles</th>\n",
       "      <th>BMI</th>\n",
       "      <th>under-five deaths</th>\n",
       "      <th>Polio</th>\n",
       "      <th>Diphtheria</th>\n",
       "      <th>HIV/AIDS</th>\n",
       "    </tr>\n",
       "  </thead>\n",
       "  <tbody>\n",
       "    <tr>\n",
       "      <th>0</th>\n",
       "      <td>Afghanistan</td>\n",
       "      <td>2015</td>\n",
       "      <td>Developing</td>\n",
       "      <td>65.0</td>\n",
       "      <td>263.0</td>\n",
       "      <td>0.01</td>\n",
       "      <td>71.279624</td>\n",
       "      <td>8.16</td>\n",
       "      <td>584.259210</td>\n",
       "      <td>33736494.0</td>\n",
       "      <td>...</td>\n",
       "      <td>0.479</td>\n",
       "      <td>10.1</td>\n",
       "      <td>62</td>\n",
       "      <td>65.0</td>\n",
       "      <td>1154</td>\n",
       "      <td>19.1</td>\n",
       "      <td>83</td>\n",
       "      <td>6.0</td>\n",
       "      <td>65.0</td>\n",
       "      <td>0.1</td>\n",
       "    </tr>\n",
       "    <tr>\n",
       "      <th>1</th>\n",
       "      <td>Afghanistan</td>\n",
       "      <td>2014</td>\n",
       "      <td>Developing</td>\n",
       "      <td>59.9</td>\n",
       "      <td>271.0</td>\n",
       "      <td>0.01</td>\n",
       "      <td>73.523582</td>\n",
       "      <td>8.18</td>\n",
       "      <td>612.696514</td>\n",
       "      <td>327582.0</td>\n",
       "      <td>...</td>\n",
       "      <td>0.476</td>\n",
       "      <td>10.0</td>\n",
       "      <td>64</td>\n",
       "      <td>62.0</td>\n",
       "      <td>492</td>\n",
       "      <td>18.6</td>\n",
       "      <td>86</td>\n",
       "      <td>58.0</td>\n",
       "      <td>62.0</td>\n",
       "      <td>0.1</td>\n",
       "    </tr>\n",
       "    <tr>\n",
       "      <th>2</th>\n",
       "      <td>Afghanistan</td>\n",
       "      <td>2013</td>\n",
       "      <td>Developing</td>\n",
       "      <td>59.9</td>\n",
       "      <td>268.0</td>\n",
       "      <td>0.01</td>\n",
       "      <td>73.219243</td>\n",
       "      <td>8.13</td>\n",
       "      <td>631.744976</td>\n",
       "      <td>31731688.0</td>\n",
       "      <td>...</td>\n",
       "      <td>0.470</td>\n",
       "      <td>9.9</td>\n",
       "      <td>66</td>\n",
       "      <td>64.0</td>\n",
       "      <td>430</td>\n",
       "      <td>18.1</td>\n",
       "      <td>89</td>\n",
       "      <td>62.0</td>\n",
       "      <td>64.0</td>\n",
       "      <td>0.1</td>\n",
       "    </tr>\n",
       "    <tr>\n",
       "      <th>3</th>\n",
       "      <td>Afghanistan</td>\n",
       "      <td>2012</td>\n",
       "      <td>Developing</td>\n",
       "      <td>59.5</td>\n",
       "      <td>272.0</td>\n",
       "      <td>0.01</td>\n",
       "      <td>78.184215</td>\n",
       "      <td>8.52</td>\n",
       "      <td>669.959000</td>\n",
       "      <td>3696958.0</td>\n",
       "      <td>...</td>\n",
       "      <td>0.463</td>\n",
       "      <td>9.8</td>\n",
       "      <td>69</td>\n",
       "      <td>67.0</td>\n",
       "      <td>2787</td>\n",
       "      <td>17.6</td>\n",
       "      <td>93</td>\n",
       "      <td>67.0</td>\n",
       "      <td>67.0</td>\n",
       "      <td>0.1</td>\n",
       "    </tr>\n",
       "    <tr>\n",
       "      <th>4</th>\n",
       "      <td>Afghanistan</td>\n",
       "      <td>2011</td>\n",
       "      <td>Developing</td>\n",
       "      <td>59.2</td>\n",
       "      <td>275.0</td>\n",
       "      <td>0.01</td>\n",
       "      <td>7.097109</td>\n",
       "      <td>7.87</td>\n",
       "      <td>63.537231</td>\n",
       "      <td>2978599.0</td>\n",
       "      <td>...</td>\n",
       "      <td>0.454</td>\n",
       "      <td>9.5</td>\n",
       "      <td>71</td>\n",
       "      <td>68.0</td>\n",
       "      <td>3013</td>\n",
       "      <td>17.2</td>\n",
       "      <td>97</td>\n",
       "      <td>68.0</td>\n",
       "      <td>68.0</td>\n",
       "      <td>0.1</td>\n",
       "    </tr>\n",
       "    <tr>\n",
       "      <th>...</th>\n",
       "      <td>...</td>\n",
       "      <td>...</td>\n",
       "      <td>...</td>\n",
       "      <td>...</td>\n",
       "      <td>...</td>\n",
       "      <td>...</td>\n",
       "      <td>...</td>\n",
       "      <td>...</td>\n",
       "      <td>...</td>\n",
       "      <td>...</td>\n",
       "      <td>...</td>\n",
       "      <td>...</td>\n",
       "      <td>...</td>\n",
       "      <td>...</td>\n",
       "      <td>...</td>\n",
       "      <td>...</td>\n",
       "      <td>...</td>\n",
       "      <td>...</td>\n",
       "      <td>...</td>\n",
       "      <td>...</td>\n",
       "      <td>...</td>\n",
       "    </tr>\n",
       "    <tr>\n",
       "      <th>2933</th>\n",
       "      <td>Zimbabwe</td>\n",
       "      <td>2004</td>\n",
       "      <td>Developing</td>\n",
       "      <td>44.3</td>\n",
       "      <td>723.0</td>\n",
       "      <td>4.36</td>\n",
       "      <td>0.000000</td>\n",
       "      <td>7.13</td>\n",
       "      <td>454.366654</td>\n",
       "      <td>12777511.0</td>\n",
       "      <td>...</td>\n",
       "      <td>0.407</td>\n",
       "      <td>9.2</td>\n",
       "      <td>27</td>\n",
       "      <td>68.0</td>\n",
       "      <td>31</td>\n",
       "      <td>27.1</td>\n",
       "      <td>42</td>\n",
       "      <td>67.0</td>\n",
       "      <td>65.0</td>\n",
       "      <td>33.6</td>\n",
       "    </tr>\n",
       "    <tr>\n",
       "      <th>2934</th>\n",
       "      <td>Zimbabwe</td>\n",
       "      <td>2003</td>\n",
       "      <td>Developing</td>\n",
       "      <td>44.5</td>\n",
       "      <td>715.0</td>\n",
       "      <td>4.06</td>\n",
       "      <td>0.000000</td>\n",
       "      <td>6.52</td>\n",
       "      <td>453.351155</td>\n",
       "      <td>12633897.0</td>\n",
       "      <td>...</td>\n",
       "      <td>0.418</td>\n",
       "      <td>9.5</td>\n",
       "      <td>26</td>\n",
       "      <td>7.0</td>\n",
       "      <td>998</td>\n",
       "      <td>26.7</td>\n",
       "      <td>41</td>\n",
       "      <td>7.0</td>\n",
       "      <td>68.0</td>\n",
       "      <td>36.7</td>\n",
       "    </tr>\n",
       "    <tr>\n",
       "      <th>2935</th>\n",
       "      <td>Zimbabwe</td>\n",
       "      <td>2002</td>\n",
       "      <td>Developing</td>\n",
       "      <td>44.8</td>\n",
       "      <td>73.0</td>\n",
       "      <td>4.43</td>\n",
       "      <td>0.000000</td>\n",
       "      <td>6.53</td>\n",
       "      <td>57.348340</td>\n",
       "      <td>125525.0</td>\n",
       "      <td>...</td>\n",
       "      <td>0.427</td>\n",
       "      <td>10.0</td>\n",
       "      <td>25</td>\n",
       "      <td>73.0</td>\n",
       "      <td>304</td>\n",
       "      <td>26.3</td>\n",
       "      <td>40</td>\n",
       "      <td>73.0</td>\n",
       "      <td>71.0</td>\n",
       "      <td>39.8</td>\n",
       "    </tr>\n",
       "    <tr>\n",
       "      <th>2936</th>\n",
       "      <td>Zimbabwe</td>\n",
       "      <td>2001</td>\n",
       "      <td>Developing</td>\n",
       "      <td>45.3</td>\n",
       "      <td>686.0</td>\n",
       "      <td>1.72</td>\n",
       "      <td>0.000000</td>\n",
       "      <td>6.16</td>\n",
       "      <td>548.587312</td>\n",
       "      <td>12366165.0</td>\n",
       "      <td>...</td>\n",
       "      <td>0.427</td>\n",
       "      <td>9.8</td>\n",
       "      <td>25</td>\n",
       "      <td>76.0</td>\n",
       "      <td>529</td>\n",
       "      <td>25.9</td>\n",
       "      <td>39</td>\n",
       "      <td>76.0</td>\n",
       "      <td>75.0</td>\n",
       "      <td>42.1</td>\n",
       "    </tr>\n",
       "    <tr>\n",
       "      <th>2937</th>\n",
       "      <td>Zimbabwe</td>\n",
       "      <td>2000</td>\n",
       "      <td>Developing</td>\n",
       "      <td>46.0</td>\n",
       "      <td>665.0</td>\n",
       "      <td>1.68</td>\n",
       "      <td>0.000000</td>\n",
       "      <td>7.10</td>\n",
       "      <td>547.358878</td>\n",
       "      <td>12222251.0</td>\n",
       "      <td>...</td>\n",
       "      <td>0.434</td>\n",
       "      <td>9.8</td>\n",
       "      <td>24</td>\n",
       "      <td>79.0</td>\n",
       "      <td>1483</td>\n",
       "      <td>25.5</td>\n",
       "      <td>39</td>\n",
       "      <td>78.0</td>\n",
       "      <td>78.0</td>\n",
       "      <td>43.5</td>\n",
       "    </tr>\n",
       "  </tbody>\n",
       "</table>\n",
       "<p>2426 rows × 22 columns</p>\n",
       "</div>"
      ],
      "text/plain": [
       "          Country  Year      Status  Life expectancy  Adult Mortality  \\\n",
       "0     Afghanistan  2015  Developing             65.0            263.0   \n",
       "1     Afghanistan  2014  Developing             59.9            271.0   \n",
       "2     Afghanistan  2013  Developing             59.9            268.0   \n",
       "3     Afghanistan  2012  Developing             59.5            272.0   \n",
       "4     Afghanistan  2011  Developing             59.2            275.0   \n",
       "...           ...   ...         ...              ...              ...   \n",
       "2933     Zimbabwe  2004  Developing             44.3            723.0   \n",
       "2934     Zimbabwe  2003  Developing             44.5            715.0   \n",
       "2935     Zimbabwe  2002  Developing             44.8             73.0   \n",
       "2936     Zimbabwe  2001  Developing             45.3            686.0   \n",
       "2937     Zimbabwe  2000  Developing             46.0            665.0   \n",
       "\n",
       "      Alcohol  percentage expenditure  Total expenditure         GDP  \\\n",
       "0        0.01               71.279624               8.16  584.259210   \n",
       "1        0.01               73.523582               8.18  612.696514   \n",
       "2        0.01               73.219243               8.13  631.744976   \n",
       "3        0.01               78.184215               8.52  669.959000   \n",
       "4        0.01                7.097109               7.87   63.537231   \n",
       "...       ...                     ...                ...         ...   \n",
       "2933     4.36                0.000000               7.13  454.366654   \n",
       "2934     4.06                0.000000               6.52  453.351155   \n",
       "2935     4.43                0.000000               6.53   57.348340   \n",
       "2936     1.72                0.000000               6.16  548.587312   \n",
       "2937     1.68                0.000000               7.10  547.358878   \n",
       "\n",
       "      Population  ...  Income composition of resources  Schooling  \\\n",
       "0     33736494.0  ...                            0.479       10.1   \n",
       "1       327582.0  ...                            0.476       10.0   \n",
       "2     31731688.0  ...                            0.470        9.9   \n",
       "3      3696958.0  ...                            0.463        9.8   \n",
       "4      2978599.0  ...                            0.454        9.5   \n",
       "...          ...  ...                              ...        ...   \n",
       "2933  12777511.0  ...                            0.407        9.2   \n",
       "2934  12633897.0  ...                            0.418        9.5   \n",
       "2935    125525.0  ...                            0.427       10.0   \n",
       "2936  12366165.0  ...                            0.427        9.8   \n",
       "2937  12222251.0  ...                            0.434        9.8   \n",
       "\n",
       "      infant deaths  Hepatitis B  Measles   BMI  under-five deaths  Polio  \\\n",
       "0                62         65.0     1154  19.1                 83    6.0   \n",
       "1                64         62.0      492  18.6                 86   58.0   \n",
       "2                66         64.0      430  18.1                 89   62.0   \n",
       "3                69         67.0     2787  17.6                 93   67.0   \n",
       "4                71         68.0     3013  17.2                 97   68.0   \n",
       "...             ...          ...      ...   ...                ...    ...   \n",
       "2933             27         68.0       31  27.1                 42   67.0   \n",
       "2934             26          7.0      998  26.7                 41    7.0   \n",
       "2935             25         73.0      304  26.3                 40   73.0   \n",
       "2936             25         76.0      529  25.9                 39   76.0   \n",
       "2937             24         79.0     1483  25.5                 39   78.0   \n",
       "\n",
       "      Diphtheria  HIV/AIDS  \n",
       "0           65.0       0.1  \n",
       "1           62.0       0.1  \n",
       "2           64.0       0.1  \n",
       "3           67.0       0.1  \n",
       "4           68.0       0.1  \n",
       "...          ...       ...  \n",
       "2933        65.0      33.6  \n",
       "2934        68.0      36.7  \n",
       "2935        71.0      39.8  \n",
       "2936        75.0      42.1  \n",
       "2937        78.0      43.5  \n",
       "\n",
       "[2426 rows x 22 columns]"
      ]
     },
     "execution_count": 54,
     "metadata": {},
     "output_type": "execute_result"
    }
   ],
   "source": [
    "df.groupby('Status').get_group('Developing')"
   ]
  },
  {
   "cell_type": "code",
   "execution_count": 55,
   "id": "9e883fd4",
   "metadata": {
    "execution": {
     "iopub.execute_input": "2022-02-27T06:46:52.195822Z",
     "iopub.status.busy": "2022-02-27T06:46:52.194300Z",
     "iopub.status.idle": "2022-02-27T06:46:52.235817Z",
     "shell.execute_reply": "2022-02-27T06:46:52.235250Z",
     "shell.execute_reply.started": "2022-02-27T04:13:19.556979Z"
    },
    "papermill": {
     "duration": 0.15921,
     "end_time": "2022-02-27T06:46:52.235991",
     "exception": false,
     "start_time": "2022-02-27T06:46:52.076781",
     "status": "completed"
    },
    "tags": []
   },
   "outputs": [
    {
     "data": {
      "text/html": [
       "<div>\n",
       "<style scoped>\n",
       "    .dataframe tbody tr th:only-of-type {\n",
       "        vertical-align: middle;\n",
       "    }\n",
       "\n",
       "    .dataframe tbody tr th {\n",
       "        vertical-align: top;\n",
       "    }\n",
       "\n",
       "    .dataframe thead th {\n",
       "        text-align: right;\n",
       "    }\n",
       "</style>\n",
       "<table border=\"1\" class=\"dataframe\">\n",
       "  <thead>\n",
       "    <tr style=\"text-align: right;\">\n",
       "      <th></th>\n",
       "      <th>Country</th>\n",
       "      <th>Year</th>\n",
       "      <th>Status</th>\n",
       "      <th>Life expectancy</th>\n",
       "      <th>Adult Mortality</th>\n",
       "      <th>Alcohol</th>\n",
       "      <th>percentage expenditure</th>\n",
       "      <th>Total expenditure</th>\n",
       "      <th>GDP</th>\n",
       "      <th>Population</th>\n",
       "      <th>...</th>\n",
       "      <th>Income composition of resources</th>\n",
       "      <th>Schooling</th>\n",
       "      <th>infant deaths</th>\n",
       "      <th>Hepatitis B</th>\n",
       "      <th>Measles</th>\n",
       "      <th>BMI</th>\n",
       "      <th>under-five deaths</th>\n",
       "      <th>Polio</th>\n",
       "      <th>Diphtheria</th>\n",
       "      <th>HIV/AIDS</th>\n",
       "    </tr>\n",
       "  </thead>\n",
       "  <tbody>\n",
       "    <tr>\n",
       "      <th>112</th>\n",
       "      <td>Australia</td>\n",
       "      <td>2015</td>\n",
       "      <td>Developed</td>\n",
       "      <td>82.8</td>\n",
       "      <td>59.0</td>\n",
       "      <td>3.755</td>\n",
       "      <td>0.00000</td>\n",
       "      <td>5.755</td>\n",
       "      <td>56554.387600</td>\n",
       "      <td>23789338.0</td>\n",
       "      <td>...</td>\n",
       "      <td>0.937</td>\n",
       "      <td>20.4</td>\n",
       "      <td>1</td>\n",
       "      <td>93.0</td>\n",
       "      <td>74</td>\n",
       "      <td>66.6</td>\n",
       "      <td>1</td>\n",
       "      <td>93.0</td>\n",
       "      <td>93.0</td>\n",
       "      <td>0.1</td>\n",
       "    </tr>\n",
       "    <tr>\n",
       "      <th>113</th>\n",
       "      <td>Australia</td>\n",
       "      <td>2014</td>\n",
       "      <td>Developed</td>\n",
       "      <td>82.7</td>\n",
       "      <td>6.0</td>\n",
       "      <td>9.710</td>\n",
       "      <td>10769.36305</td>\n",
       "      <td>9.420</td>\n",
       "      <td>62214.691200</td>\n",
       "      <td>2346694.0</td>\n",
       "      <td>...</td>\n",
       "      <td>0.936</td>\n",
       "      <td>20.4</td>\n",
       "      <td>1</td>\n",
       "      <td>91.0</td>\n",
       "      <td>340</td>\n",
       "      <td>66.1</td>\n",
       "      <td>1</td>\n",
       "      <td>92.0</td>\n",
       "      <td>92.0</td>\n",
       "      <td>0.1</td>\n",
       "    </tr>\n",
       "    <tr>\n",
       "      <th>114</th>\n",
       "      <td>Australia</td>\n",
       "      <td>2013</td>\n",
       "      <td>Developed</td>\n",
       "      <td>82.5</td>\n",
       "      <td>61.0</td>\n",
       "      <td>9.870</td>\n",
       "      <td>11734.85381</td>\n",
       "      <td>9.360</td>\n",
       "      <td>67792.338600</td>\n",
       "      <td>23117353.0</td>\n",
       "      <td>...</td>\n",
       "      <td>0.933</td>\n",
       "      <td>20.3</td>\n",
       "      <td>1</td>\n",
       "      <td>91.0</td>\n",
       "      <td>158</td>\n",
       "      <td>65.5</td>\n",
       "      <td>1</td>\n",
       "      <td>91.0</td>\n",
       "      <td>91.0</td>\n",
       "      <td>0.1</td>\n",
       "    </tr>\n",
       "    <tr>\n",
       "      <th>115</th>\n",
       "      <td>Australia</td>\n",
       "      <td>2012</td>\n",
       "      <td>Developed</td>\n",
       "      <td>82.3</td>\n",
       "      <td>61.0</td>\n",
       "      <td>10.030</td>\n",
       "      <td>11714.99858</td>\n",
       "      <td>9.360</td>\n",
       "      <td>67677.634770</td>\n",
       "      <td>22728254.0</td>\n",
       "      <td>...</td>\n",
       "      <td>0.930</td>\n",
       "      <td>20.1</td>\n",
       "      <td>1</td>\n",
       "      <td>91.0</td>\n",
       "      <td>199</td>\n",
       "      <td>65.0</td>\n",
       "      <td>1</td>\n",
       "      <td>92.0</td>\n",
       "      <td>92.0</td>\n",
       "      <td>0.1</td>\n",
       "    </tr>\n",
       "    <tr>\n",
       "      <th>116</th>\n",
       "      <td>Australia</td>\n",
       "      <td>2011</td>\n",
       "      <td>Developed</td>\n",
       "      <td>82.0</td>\n",
       "      <td>63.0</td>\n",
       "      <td>10.300</td>\n",
       "      <td>10986.26527</td>\n",
       "      <td>9.200</td>\n",
       "      <td>62245.129000</td>\n",
       "      <td>223424.0</td>\n",
       "      <td>...</td>\n",
       "      <td>0.927</td>\n",
       "      <td>19.8</td>\n",
       "      <td>1</td>\n",
       "      <td>92.0</td>\n",
       "      <td>190</td>\n",
       "      <td>64.4</td>\n",
       "      <td>1</td>\n",
       "      <td>92.0</td>\n",
       "      <td>92.0</td>\n",
       "      <td>0.1</td>\n",
       "    </tr>\n",
       "    <tr>\n",
       "      <th>...</th>\n",
       "      <td>...</td>\n",
       "      <td>...</td>\n",
       "      <td>...</td>\n",
       "      <td>...</td>\n",
       "      <td>...</td>\n",
       "      <td>...</td>\n",
       "      <td>...</td>\n",
       "      <td>...</td>\n",
       "      <td>...</td>\n",
       "      <td>...</td>\n",
       "      <td>...</td>\n",
       "      <td>...</td>\n",
       "      <td>...</td>\n",
       "      <td>...</td>\n",
       "      <td>...</td>\n",
       "      <td>...</td>\n",
       "      <td>...</td>\n",
       "      <td>...</td>\n",
       "      <td>...</td>\n",
       "      <td>...</td>\n",
       "      <td>...</td>\n",
       "    </tr>\n",
       "    <tr>\n",
       "      <th>2805</th>\n",
       "      <td>United States of America</td>\n",
       "      <td>2004</td>\n",
       "      <td>Developed</td>\n",
       "      <td>77.5</td>\n",
       "      <td>111.0</td>\n",
       "      <td>8.480</td>\n",
       "      <td>0.00000</td>\n",
       "      <td>15.140</td>\n",
       "      <td>1766.947595</td>\n",
       "      <td>1386542.0</td>\n",
       "      <td>...</td>\n",
       "      <td>0.677</td>\n",
       "      <td>12.3</td>\n",
       "      <td>28</td>\n",
       "      <td>92.0</td>\n",
       "      <td>37</td>\n",
       "      <td>63.1</td>\n",
       "      <td>33</td>\n",
       "      <td>92.0</td>\n",
       "      <td>96.0</td>\n",
       "      <td>0.1</td>\n",
       "    </tr>\n",
       "    <tr>\n",
       "      <th>2806</th>\n",
       "      <td>United States of America</td>\n",
       "      <td>2003</td>\n",
       "      <td>Developed</td>\n",
       "      <td>77.2</td>\n",
       "      <td>114.0</td>\n",
       "      <td>8.400</td>\n",
       "      <td>0.00000</td>\n",
       "      <td>15.600</td>\n",
       "      <td>1766.947595</td>\n",
       "      <td>1386542.0</td>\n",
       "      <td>...</td>\n",
       "      <td>0.677</td>\n",
       "      <td>12.3</td>\n",
       "      <td>28</td>\n",
       "      <td>92.0</td>\n",
       "      <td>56</td>\n",
       "      <td>62.4</td>\n",
       "      <td>33</td>\n",
       "      <td>91.0</td>\n",
       "      <td>96.0</td>\n",
       "      <td>0.1</td>\n",
       "    </tr>\n",
       "    <tr>\n",
       "      <th>2807</th>\n",
       "      <td>United States of America</td>\n",
       "      <td>2002</td>\n",
       "      <td>Developed</td>\n",
       "      <td>77.0</td>\n",
       "      <td>115.0</td>\n",
       "      <td>8.330</td>\n",
       "      <td>0.00000</td>\n",
       "      <td>14.550</td>\n",
       "      <td>1766.947595</td>\n",
       "      <td>1386542.0</td>\n",
       "      <td>...</td>\n",
       "      <td>0.677</td>\n",
       "      <td>12.3</td>\n",
       "      <td>28</td>\n",
       "      <td>88.0</td>\n",
       "      <td>41</td>\n",
       "      <td>61.7</td>\n",
       "      <td>33</td>\n",
       "      <td>9.0</td>\n",
       "      <td>94.0</td>\n",
       "      <td>0.1</td>\n",
       "    </tr>\n",
       "    <tr>\n",
       "      <th>2808</th>\n",
       "      <td>United States of America</td>\n",
       "      <td>2001</td>\n",
       "      <td>Developed</td>\n",
       "      <td>76.9</td>\n",
       "      <td>115.0</td>\n",
       "      <td>8.250</td>\n",
       "      <td>0.00000</td>\n",
       "      <td>13.730</td>\n",
       "      <td>1766.947595</td>\n",
       "      <td>1386542.0</td>\n",
       "      <td>...</td>\n",
       "      <td>0.677</td>\n",
       "      <td>12.3</td>\n",
       "      <td>28</td>\n",
       "      <td>89.0</td>\n",
       "      <td>116</td>\n",
       "      <td>6.9</td>\n",
       "      <td>33</td>\n",
       "      <td>89.0</td>\n",
       "      <td>94.0</td>\n",
       "      <td>0.1</td>\n",
       "    </tr>\n",
       "    <tr>\n",
       "      <th>2809</th>\n",
       "      <td>United States of America</td>\n",
       "      <td>2000</td>\n",
       "      <td>Developed</td>\n",
       "      <td>76.8</td>\n",
       "      <td>114.0</td>\n",
       "      <td>8.210</td>\n",
       "      <td>0.00000</td>\n",
       "      <td>13.700</td>\n",
       "      <td>1766.947595</td>\n",
       "      <td>1386542.0</td>\n",
       "      <td>...</td>\n",
       "      <td>0.677</td>\n",
       "      <td>12.3</td>\n",
       "      <td>28</td>\n",
       "      <td>9.0</td>\n",
       "      <td>85</td>\n",
       "      <td>6.1</td>\n",
       "      <td>33</td>\n",
       "      <td>9.0</td>\n",
       "      <td>94.0</td>\n",
       "      <td>0.1</td>\n",
       "    </tr>\n",
       "  </tbody>\n",
       "</table>\n",
       "<p>512 rows × 22 columns</p>\n",
       "</div>"
      ],
      "text/plain": [
       "                       Country  Year     Status  Life expectancy  \\\n",
       "112                  Australia  2015  Developed             82.8   \n",
       "113                  Australia  2014  Developed             82.7   \n",
       "114                  Australia  2013  Developed             82.5   \n",
       "115                  Australia  2012  Developed             82.3   \n",
       "116                  Australia  2011  Developed             82.0   \n",
       "...                        ...   ...        ...              ...   \n",
       "2805  United States of America  2004  Developed             77.5   \n",
       "2806  United States of America  2003  Developed             77.2   \n",
       "2807  United States of America  2002  Developed             77.0   \n",
       "2808  United States of America  2001  Developed             76.9   \n",
       "2809  United States of America  2000  Developed             76.8   \n",
       "\n",
       "      Adult Mortality  Alcohol  percentage expenditure  Total expenditure  \\\n",
       "112              59.0    3.755                 0.00000              5.755   \n",
       "113               6.0    9.710             10769.36305              9.420   \n",
       "114              61.0    9.870             11734.85381              9.360   \n",
       "115              61.0   10.030             11714.99858              9.360   \n",
       "116              63.0   10.300             10986.26527              9.200   \n",
       "...               ...      ...                     ...                ...   \n",
       "2805            111.0    8.480                 0.00000             15.140   \n",
       "2806            114.0    8.400                 0.00000             15.600   \n",
       "2807            115.0    8.330                 0.00000             14.550   \n",
       "2808            115.0    8.250                 0.00000             13.730   \n",
       "2809            114.0    8.210                 0.00000             13.700   \n",
       "\n",
       "               GDP  Population  ...  Income composition of resources  \\\n",
       "112   56554.387600  23789338.0  ...                            0.937   \n",
       "113   62214.691200   2346694.0  ...                            0.936   \n",
       "114   67792.338600  23117353.0  ...                            0.933   \n",
       "115   67677.634770  22728254.0  ...                            0.930   \n",
       "116   62245.129000    223424.0  ...                            0.927   \n",
       "...            ...         ...  ...                              ...   \n",
       "2805   1766.947595   1386542.0  ...                            0.677   \n",
       "2806   1766.947595   1386542.0  ...                            0.677   \n",
       "2807   1766.947595   1386542.0  ...                            0.677   \n",
       "2808   1766.947595   1386542.0  ...                            0.677   \n",
       "2809   1766.947595   1386542.0  ...                            0.677   \n",
       "\n",
       "      Schooling  infant deaths  Hepatitis B  Measles   BMI  under-five deaths  \\\n",
       "112        20.4              1         93.0       74  66.6                  1   \n",
       "113        20.4              1         91.0      340  66.1                  1   \n",
       "114        20.3              1         91.0      158  65.5                  1   \n",
       "115        20.1              1         91.0      199  65.0                  1   \n",
       "116        19.8              1         92.0      190  64.4                  1   \n",
       "...         ...            ...          ...      ...   ...                ...   \n",
       "2805       12.3             28         92.0       37  63.1                 33   \n",
       "2806       12.3             28         92.0       56  62.4                 33   \n",
       "2807       12.3             28         88.0       41  61.7                 33   \n",
       "2808       12.3             28         89.0      116   6.9                 33   \n",
       "2809       12.3             28          9.0       85   6.1                 33   \n",
       "\n",
       "      Polio  Diphtheria  HIV/AIDS  \n",
       "112    93.0        93.0       0.1  \n",
       "113    92.0        92.0       0.1  \n",
       "114    91.0        91.0       0.1  \n",
       "115    92.0        92.0       0.1  \n",
       "116    92.0        92.0       0.1  \n",
       "...     ...         ...       ...  \n",
       "2805   92.0        96.0       0.1  \n",
       "2806   91.0        96.0       0.1  \n",
       "2807    9.0        94.0       0.1  \n",
       "2808   89.0        94.0       0.1  \n",
       "2809    9.0        94.0       0.1  \n",
       "\n",
       "[512 rows x 22 columns]"
      ]
     },
     "execution_count": 55,
     "metadata": {},
     "output_type": "execute_result"
    }
   ],
   "source": [
    "df.groupby('Status').get_group('Developed')"
   ]
  },
  {
   "cell_type": "markdown",
   "id": "fb2cbb6c",
   "metadata": {
    "papermill": {
     "duration": 0.118448,
     "end_time": "2022-02-27T06:46:52.472763",
     "exception": false,
     "start_time": "2022-02-27T06:46:52.354315",
     "status": "completed"
    },
    "tags": []
   },
   "source": [
    "You are studying the common diseases occuring in countries over a period of years. These diseases are Hepatitis B, HIV/AIDS, Polio and Diphtheria. Which of the diseases has shown a downfall trend amongst all. You can suggest a plan to WHO to revamp their plan towards expenses on it. You have to visualize the result to get the answer."
   ]
  },
  {
   "cell_type": "code",
   "execution_count": 56,
   "id": "b40b10f2",
   "metadata": {
    "execution": {
     "iopub.execute_input": "2022-02-27T06:46:52.715591Z",
     "iopub.status.busy": "2022-02-27T06:46:52.714517Z",
     "iopub.status.idle": "2022-02-27T06:46:54.059333Z",
     "shell.execute_reply": "2022-02-27T06:46:54.059888Z",
     "shell.execute_reply.started": "2022-02-27T04:13:19.590189Z"
    },
    "papermill": {
     "duration": 1.470116,
     "end_time": "2022-02-27T06:46:54.060071",
     "exception": false,
     "start_time": "2022-02-27T06:46:52.589955",
     "status": "completed"
    },
    "tags": []
   },
   "outputs": [
    {
     "data": {
      "text/plain": [
       "<AxesSubplot:xlabel='Year', ylabel='Hepatitis B'>"
      ]
     },
     "execution_count": 56,
     "metadata": {},
     "output_type": "execute_result"
    },
    {
     "data": {
      "image/png": "[encoded data removed]",
      "text/plain": [
       "<Figure size 720x360 with 1 Axes>"
      ]
     },
     "metadata": {
      "needs_background": "light"
     },
     "output_type": "display_data"
    }
   ],
   "source": [
    "plt.figure(figsize = (10,5))\n",
    "sns.lineplot(x = df['Year'], y = df['Hepatitis B'], hue = df['Status'])"
   ]
  },
  {
   "cell_type": "code",
   "execution_count": 57,
   "id": "3fc4f72a",
   "metadata": {
    "execution": {
     "iopub.execute_input": "2022-02-27T06:46:54.324132Z",
     "iopub.status.busy": "2022-02-27T06:46:54.323439Z",
     "iopub.status.idle": "2022-02-27T06:46:59.214221Z",
     "shell.execute_reply": "2022-02-27T06:46:59.214741Z",
     "shell.execute_reply.started": "2022-02-27T04:35:25.023230Z"
    },
    "papermill": {
     "duration": 5.034545,
     "end_time": "2022-02-27T06:46:59.214956",
     "exception": false,
     "start_time": "2022-02-27T06:46:54.180411",
     "status": "completed"
    },
    "tags": []
   },
   "outputs": [
    {
     "name": "stderr",
     "output_type": "stream",
     "text": [
      "/opt/conda/lib/python3.7/site-packages/seaborn/_decorators.py:43: FutureWarning: Pass the following variables as keyword args: x, y. From version 0.12, the only valid positional argument will be `data`, and passing other arguments without an explicit keyword will result in an error or misinterpretation.\n",
      "  FutureWarning\n",
      "/opt/conda/lib/python3.7/site-packages/seaborn/_decorators.py:43: FutureWarning: Pass the following variables as keyword args: x, y. From version 0.12, the only valid positional argument will be `data`, and passing other arguments without an explicit keyword will result in an error or misinterpretation.\n",
      "  FutureWarning\n",
      "/opt/conda/lib/python3.7/site-packages/seaborn/_decorators.py:43: FutureWarning: Pass the following variables as keyword args: x, y. From version 0.12, the only valid positional argument will be `data`, and passing other arguments without an explicit keyword will result in an error or misinterpretation.\n",
      "  FutureWarning\n",
      "/opt/conda/lib/python3.7/site-packages/seaborn/_decorators.py:43: FutureWarning: Pass the following variables as keyword args: x, y. From version 0.12, the only valid positional argument will be `data`, and passing other arguments without an explicit keyword will result in an error or misinterpretation.\n",
      "  FutureWarning\n"
     ]
    },
    {
     "data": {
      "image/png": "[encoded data removed]",
      "text/plain": [
       "<Figure size 720x576 with 4 Axes>"
      ]
     },
     "metadata": {
      "needs_background": "light"
     },
     "output_type": "display_data"
    }
   ],
   "source": [
    "plt.figure(figsize = (10,8))\n",
    "\n",
    "plt.subplot(221)\n",
    "sns.lineplot(df['Year'], df['Hepatitis B'], hue = df['Status'])\n",
    "\n",
    "plt.subplot(222)\n",
    "sns.lineplot(df['Year'], df['HIV/AIDS'], hue = df['Status'])\n",
    "\n",
    "plt.subplot(223)\n",
    "sns.lineplot(df['Year'], df['Polio'], hue = df['Status'])\n",
    "\n",
    "plt.subplot(224)\n",
    "sns.lineplot(df['Year'], df['Diphtheria'], hue = df['Status'])\n",
    "\n",
    "plt.show()"
   ]
  },
  {
   "cell_type": "markdown",
   "id": "d25e454b",
   "metadata": {
    "papermill": {
     "duration": 0.123085,
     "end_time": "2022-02-27T06:46:59.460773",
     "exception": false,
     "start_time": "2022-02-27T06:46:59.337688",
     "status": "completed"
    },
    "tags": []
   },
   "source": [
    "**Task 3:** \n",
    "\n",
    "As a Data Analyst, you have to compare all the columns with each other and find patterns. Comparing 2 or 3 columns at a time can be time consuming. If your dataset has a maximum of numerical columns, you can use seaborn heatmap to find correlation between all of them. Complete these tasks to have in-depth knowledge on the dataset;\n",
    "\n",
    "●\tCreate a heatmap for dataframe correlation and show annotations. \n",
    "\n",
    "●\tThere are a lot of columns so it’s better to increase the figure size also.\n"
   ]
  },
  {
   "cell_type": "code",
   "execution_count": 58,
   "id": "55d6af40",
   "metadata": {
    "execution": {
     "iopub.execute_input": "2022-02-27T06:46:59.720158Z",
     "iopub.status.busy": "2022-02-27T06:46:59.719265Z",
     "iopub.status.idle": "2022-02-27T06:47:02.056478Z",
     "shell.execute_reply": "2022-02-27T06:47:02.057006Z",
     "shell.execute_reply.started": "2022-02-27T04:44:08.176315Z"
    },
    "papermill": {
     "duration": 2.468306,
     "end_time": "2022-02-27T06:47:02.057182",
     "exception": false,
     "start_time": "2022-02-27T06:46:59.588876",
     "status": "completed"
    },
    "tags": []
   },
   "outputs": [
    {
     "data": {
      "text/plain": [
       "<AxesSubplot:>"
      ]
     },
     "execution_count": 58,
     "metadata": {},
     "output_type": "execute_result"
    },
    {
     "data": {
      "image/png": "[encoded data removed]",
      "text/plain": [
       "<Figure size 1296x576 with 2 Axes>"
      ]
     },
     "metadata": {
      "needs_background": "light"
     },
     "output_type": "display_data"
    }
   ],
   "source": [
    "plt.figure(figsize = (18,8))\n",
    "sns.heatmap(df.corr(),annot = True, cmap = 'coolwarm')"
   ]
  },
  {
   "cell_type": "markdown",
   "id": "70665cf0",
   "metadata": {
    "papermill": {
     "duration": 0.130521,
     "end_time": "2022-02-27T06:47:02.318987",
     "exception": false,
     "start_time": "2022-02-27T06:47:02.188466",
     "status": "completed"
    },
    "tags": []
   },
   "source": [
    "## Scenario 4: \n",
    "You have already sent insights using visualization and now you can move ahead with more hidden patterns, or, find relationships among features.\n",
    "\n",
    "**Task 1:** \n",
    "\n",
    "Life expectancy in countries, whether developed or developing, depends on various health factors. You will start with finding the countries which are impacted maximum or minimum against them. \n",
    "\n",
    "●\tStudy the statistical parameters of all features. \n",
    "\n",
    "●\tCountries having minimum BMI\n",
    "\n",
    "●\tCountries having max. of Alcohol Consumption cases "
   ]
  },
  {
   "cell_type": "code",
   "execution_count": 59,
   "id": "5509733f",
   "metadata": {
    "execution": {
     "iopub.execute_input": "2022-02-27T06:47:02.582204Z",
     "iopub.status.busy": "2022-02-27T06:47:02.581534Z",
     "iopub.status.idle": "2022-02-27T06:47:02.644821Z",
     "shell.execute_reply": "2022-02-27T06:47:02.645362Z",
     "shell.execute_reply.started": "2022-02-27T05:06:43.092469Z"
    },
    "papermill": {
     "duration": 0.196486,
     "end_time": "2022-02-27T06:47:02.645534",
     "exception": false,
     "start_time": "2022-02-27T06:47:02.449048",
     "status": "completed"
    },
    "tags": []
   },
   "outputs": [
    {
     "data": {
      "text/html": [
       "<div>\n",
       "<style scoped>\n",
       "    .dataframe tbody tr th:only-of-type {\n",
       "        vertical-align: middle;\n",
       "    }\n",
       "\n",
       "    .dataframe tbody tr th {\n",
       "        vertical-align: top;\n",
       "    }\n",
       "\n",
       "    .dataframe thead th {\n",
       "        text-align: right;\n",
       "    }\n",
       "</style>\n",
       "<table border=\"1\" class=\"dataframe\">\n",
       "  <thead>\n",
       "    <tr style=\"text-align: right;\">\n",
       "      <th></th>\n",
       "      <th>Year</th>\n",
       "      <th>Life expectancy</th>\n",
       "      <th>Adult Mortality</th>\n",
       "      <th>Alcohol</th>\n",
       "      <th>percentage expenditure</th>\n",
       "      <th>Total expenditure</th>\n",
       "      <th>GDP</th>\n",
       "      <th>Population</th>\n",
       "      <th>thinness  1-19 years</th>\n",
       "      <th>thinness 5-9 years</th>\n",
       "      <th>Income composition of resources</th>\n",
       "      <th>Schooling</th>\n",
       "      <th>infant deaths</th>\n",
       "      <th>Hepatitis B</th>\n",
       "      <th>Measles</th>\n",
       "      <th>BMI</th>\n",
       "      <th>under-five deaths</th>\n",
       "      <th>Polio</th>\n",
       "      <th>Diphtheria</th>\n",
       "      <th>HIV/AIDS</th>\n",
       "    </tr>\n",
       "  </thead>\n",
       "  <tbody>\n",
       "    <tr>\n",
       "      <th>count</th>\n",
       "      <td>2938.000000</td>\n",
       "      <td>2938.000000</td>\n",
       "      <td>2938.000000</td>\n",
       "      <td>2938.000000</td>\n",
       "      <td>2938.000000</td>\n",
       "      <td>2938.000000</td>\n",
       "      <td>2938.000000</td>\n",
       "      <td>2.938000e+03</td>\n",
       "      <td>2938.000000</td>\n",
       "      <td>2938.000000</td>\n",
       "      <td>2938.000000</td>\n",
       "      <td>2938.000000</td>\n",
       "      <td>2938.000000</td>\n",
       "      <td>2938.000000</td>\n",
       "      <td>2938.000000</td>\n",
       "      <td>2938.000000</td>\n",
       "      <td>2938.000000</td>\n",
       "      <td>2938.000000</td>\n",
       "      <td>2938.000000</td>\n",
       "      <td>2938.000000</td>\n",
       "    </tr>\n",
       "    <tr>\n",
       "      <th>mean</th>\n",
       "      <td>2007.518720</td>\n",
       "      <td>69.234717</td>\n",
       "      <td>164.725664</td>\n",
       "      <td>4.546875</td>\n",
       "      <td>738.251295</td>\n",
       "      <td>5.924098</td>\n",
       "      <td>6611.523863</td>\n",
       "      <td>1.023085e+07</td>\n",
       "      <td>4.821886</td>\n",
       "      <td>4.852144</td>\n",
       "      <td>0.630362</td>\n",
       "      <td>12.009837</td>\n",
       "      <td>30.303948</td>\n",
       "      <td>83.022124</td>\n",
       "      <td>2419.592240</td>\n",
       "      <td>38.381178</td>\n",
       "      <td>42.035739</td>\n",
       "      <td>82.617767</td>\n",
       "      <td>82.393125</td>\n",
       "      <td>1.742103</td>\n",
       "    </tr>\n",
       "    <tr>\n",
       "      <th>std</th>\n",
       "      <td>4.613841</td>\n",
       "      <td>9.509115</td>\n",
       "      <td>124.086215</td>\n",
       "      <td>3.921946</td>\n",
       "      <td>1987.914858</td>\n",
       "      <td>2.400770</td>\n",
       "      <td>13296.603449</td>\n",
       "      <td>5.402242e+07</td>\n",
       "      <td>4.397621</td>\n",
       "      <td>4.485854</td>\n",
       "      <td>0.205140</td>\n",
       "      <td>3.265139</td>\n",
       "      <td>117.926501</td>\n",
       "      <td>22.996984</td>\n",
       "      <td>11467.272489</td>\n",
       "      <td>19.935375</td>\n",
       "      <td>160.445548</td>\n",
       "      <td>23.367166</td>\n",
       "      <td>23.655562</td>\n",
       "      <td>5.077785</td>\n",
       "    </tr>\n",
       "    <tr>\n",
       "      <th>min</th>\n",
       "      <td>2000.000000</td>\n",
       "      <td>36.300000</td>\n",
       "      <td>1.000000</td>\n",
       "      <td>0.010000</td>\n",
       "      <td>0.000000</td>\n",
       "      <td>0.370000</td>\n",
       "      <td>1.681350</td>\n",
       "      <td>3.400000e+01</td>\n",
       "      <td>0.100000</td>\n",
       "      <td>0.100000</td>\n",
       "      <td>0.000000</td>\n",
       "      <td>0.000000</td>\n",
       "      <td>0.000000</td>\n",
       "      <td>1.000000</td>\n",
       "      <td>0.000000</td>\n",
       "      <td>1.000000</td>\n",
       "      <td>0.000000</td>\n",
       "      <td>3.000000</td>\n",
       "      <td>2.000000</td>\n",
       "      <td>0.100000</td>\n",
       "    </tr>\n",
       "    <tr>\n",
       "      <th>25%</th>\n",
       "      <td>2004.000000</td>\n",
       "      <td>63.200000</td>\n",
       "      <td>74.000000</td>\n",
       "      <td>1.092500</td>\n",
       "      <td>4.685343</td>\n",
       "      <td>4.370000</td>\n",
       "      <td>580.486996</td>\n",
       "      <td>4.189172e+05</td>\n",
       "      <td>1.600000</td>\n",
       "      <td>1.600000</td>\n",
       "      <td>0.504250</td>\n",
       "      <td>10.300000</td>\n",
       "      <td>0.000000</td>\n",
       "      <td>82.000000</td>\n",
       "      <td>0.000000</td>\n",
       "      <td>19.400000</td>\n",
       "      <td>0.000000</td>\n",
       "      <td>78.000000</td>\n",
       "      <td>78.000000</td>\n",
       "      <td>0.100000</td>\n",
       "    </tr>\n",
       "    <tr>\n",
       "      <th>50%</th>\n",
       "      <td>2008.000000</td>\n",
       "      <td>72.100000</td>\n",
       "      <td>144.000000</td>\n",
       "      <td>3.755000</td>\n",
       "      <td>64.912906</td>\n",
       "      <td>5.755000</td>\n",
       "      <td>1766.947595</td>\n",
       "      <td>1.386542e+06</td>\n",
       "      <td>3.300000</td>\n",
       "      <td>3.300000</td>\n",
       "      <td>0.677000</td>\n",
       "      <td>12.300000</td>\n",
       "      <td>3.000000</td>\n",
       "      <td>92.000000</td>\n",
       "      <td>17.000000</td>\n",
       "      <td>43.500000</td>\n",
       "      <td>4.000000</td>\n",
       "      <td>93.000000</td>\n",
       "      <td>93.000000</td>\n",
       "      <td>0.100000</td>\n",
       "    </tr>\n",
       "    <tr>\n",
       "      <th>75%</th>\n",
       "      <td>2012.000000</td>\n",
       "      <td>75.600000</td>\n",
       "      <td>227.000000</td>\n",
       "      <td>7.390000</td>\n",
       "      <td>441.534144</td>\n",
       "      <td>7.330000</td>\n",
       "      <td>4779.405190</td>\n",
       "      <td>4.584371e+06</td>\n",
       "      <td>7.100000</td>\n",
       "      <td>7.200000</td>\n",
       "      <td>0.772000</td>\n",
       "      <td>14.100000</td>\n",
       "      <td>22.000000</td>\n",
       "      <td>96.000000</td>\n",
       "      <td>360.250000</td>\n",
       "      <td>56.100000</td>\n",
       "      <td>28.000000</td>\n",
       "      <td>97.000000</td>\n",
       "      <td>97.000000</td>\n",
       "      <td>0.800000</td>\n",
       "    </tr>\n",
       "    <tr>\n",
       "      <th>max</th>\n",
       "      <td>2015.000000</td>\n",
       "      <td>89.000000</td>\n",
       "      <td>723.000000</td>\n",
       "      <td>17.870000</td>\n",
       "      <td>19479.911610</td>\n",
       "      <td>17.600000</td>\n",
       "      <td>119172.741800</td>\n",
       "      <td>1.293859e+09</td>\n",
       "      <td>27.700000</td>\n",
       "      <td>28.600000</td>\n",
       "      <td>0.948000</td>\n",
       "      <td>20.700000</td>\n",
       "      <td>1800.000000</td>\n",
       "      <td>99.000000</td>\n",
       "      <td>212183.000000</td>\n",
       "      <td>87.300000</td>\n",
       "      <td>2500.000000</td>\n",
       "      <td>99.000000</td>\n",
       "      <td>99.000000</td>\n",
       "      <td>50.600000</td>\n",
       "    </tr>\n",
       "  </tbody>\n",
       "</table>\n",
       "</div>"
      ],
      "text/plain": [
       "              Year  Life expectancy  Adult Mortality      Alcohol  \\\n",
       "count  2938.000000      2938.000000      2938.000000  2938.000000   \n",
       "mean   2007.518720        69.234717       164.725664     4.546875   \n",
       "std       4.613841         9.509115       124.086215     3.921946   \n",
       "min    2000.000000        36.300000         1.000000     0.010000   \n",
       "25%    2004.000000        63.200000        74.000000     1.092500   \n",
       "50%    2008.000000        72.100000       144.000000     3.755000   \n",
       "75%    2012.000000        75.600000       227.000000     7.390000   \n",
       "max    2015.000000        89.000000       723.000000    17.870000   \n",
       "\n",
       "       percentage expenditure  Total expenditure            GDP    Population  \\\n",
       "count             2938.000000        2938.000000    2938.000000  2.938000e+03   \n",
       "mean               738.251295           5.924098    6611.523863  1.023085e+07   \n",
       "std               1987.914858           2.400770   13296.603449  5.402242e+07   \n",
       "min                  0.000000           0.370000       1.681350  3.400000e+01   \n",
       "25%                  4.685343           4.370000     580.486996  4.189172e+05   \n",
       "50%                 64.912906           5.755000    1766.947595  1.386542e+06   \n",
       "75%                441.534144           7.330000    4779.405190  4.584371e+06   \n",
       "max              19479.911610          17.600000  119172.741800  1.293859e+09   \n",
       "\n",
       "       thinness  1-19 years  thinness 5-9 years  \\\n",
       "count           2938.000000         2938.000000   \n",
       "mean               4.821886            4.852144   \n",
       "std                4.397621            4.485854   \n",
       "min                0.100000            0.100000   \n",
       "25%                1.600000            1.600000   \n",
       "50%                3.300000            3.300000   \n",
       "75%                7.100000            7.200000   \n",
       "max               27.700000           28.600000   \n",
       "\n",
       "       Income composition of resources    Schooling  infant deaths  \\\n",
       "count                      2938.000000  2938.000000    2938.000000   \n",
       "mean                          0.630362    12.009837      30.303948   \n",
       "std                           0.205140     3.265139     117.926501   \n",
       "min                           0.000000     0.000000       0.000000   \n",
       "25%                           0.504250    10.300000       0.000000   \n",
       "50%                           0.677000    12.300000       3.000000   \n",
       "75%                           0.772000    14.100000      22.000000   \n",
       "max                           0.948000    20.700000    1800.000000   \n",
       "\n",
       "       Hepatitis B        Measles          BMI  under-five deaths  \\\n",
       "count  2938.000000    2938.000000  2938.000000        2938.000000   \n",
       "mean     83.022124    2419.592240    38.381178          42.035739   \n",
       "std      22.996984   11467.272489    19.935375         160.445548   \n",
       "min       1.000000       0.000000     1.000000           0.000000   \n",
       "25%      82.000000       0.000000    19.400000           0.000000   \n",
       "50%      92.000000      17.000000    43.500000           4.000000   \n",
       "75%      96.000000     360.250000    56.100000          28.000000   \n",
       "max      99.000000  212183.000000    87.300000        2500.000000   \n",
       "\n",
       "             Polio   Diphtheria     HIV/AIDS  \n",
       "count  2938.000000  2938.000000  2938.000000  \n",
       "mean     82.617767    82.393125     1.742103  \n",
       "std      23.367166    23.655562     5.077785  \n",
       "min       3.000000     2.000000     0.100000  \n",
       "25%      78.000000    78.000000     0.100000  \n",
       "50%      93.000000    93.000000     0.100000  \n",
       "75%      97.000000    97.000000     0.800000  \n",
       "max      99.000000    99.000000    50.600000  "
      ]
     },
     "execution_count": 59,
     "metadata": {},
     "output_type": "execute_result"
    }
   ],
   "source": [
    "df.describe()"
   ]
  },
  {
   "cell_type": "code",
   "execution_count": 60,
   "id": "91aed02b",
   "metadata": {
    "execution": {
     "iopub.execute_input": "2022-02-27T06:47:02.918649Z",
     "iopub.status.busy": "2022-02-27T06:47:02.917986Z",
     "iopub.status.idle": "2022-02-27T06:47:02.946988Z",
     "shell.execute_reply": "2022-02-27T06:47:02.947502Z",
     "shell.execute_reply.started": "2022-02-27T05:16:09.839486Z"
    },
    "papermill": {
     "duration": 0.165365,
     "end_time": "2022-02-27T06:47:02.947692",
     "exception": false,
     "start_time": "2022-02-27T06:47:02.782327",
     "status": "completed"
    },
    "tags": []
   },
   "outputs": [
    {
     "data": {
      "text/html": [
       "<div>\n",
       "<style scoped>\n",
       "    .dataframe tbody tr th:only-of-type {\n",
       "        vertical-align: middle;\n",
       "    }\n",
       "\n",
       "    .dataframe tbody tr th {\n",
       "        vertical-align: top;\n",
       "    }\n",
       "\n",
       "    .dataframe thead th {\n",
       "        text-align: right;\n",
       "    }\n",
       "</style>\n",
       "<table border=\"1\" class=\"dataframe\">\n",
       "  <thead>\n",
       "    <tr style=\"text-align: right;\">\n",
       "      <th></th>\n",
       "      <th>Country</th>\n",
       "      <th>Year</th>\n",
       "      <th>Status</th>\n",
       "      <th>Life expectancy</th>\n",
       "      <th>Adult Mortality</th>\n",
       "      <th>Alcohol</th>\n",
       "      <th>percentage expenditure</th>\n",
       "      <th>Total expenditure</th>\n",
       "      <th>GDP</th>\n",
       "      <th>Population</th>\n",
       "      <th>...</th>\n",
       "      <th>Income composition of resources</th>\n",
       "      <th>Schooling</th>\n",
       "      <th>infant deaths</th>\n",
       "      <th>Hepatitis B</th>\n",
       "      <th>Measles</th>\n",
       "      <th>BMI</th>\n",
       "      <th>under-five deaths</th>\n",
       "      <th>Polio</th>\n",
       "      <th>Diphtheria</th>\n",
       "      <th>HIV/AIDS</th>\n",
       "    </tr>\n",
       "  </thead>\n",
       "  <tbody>\n",
       "    <tr>\n",
       "      <th>0</th>\n",
       "      <td>Afghanistan</td>\n",
       "      <td>2015</td>\n",
       "      <td>Developing</td>\n",
       "      <td>65.0</td>\n",
       "      <td>263.0</td>\n",
       "      <td>0.01</td>\n",
       "      <td>71.279624</td>\n",
       "      <td>8.16</td>\n",
       "      <td>584.259210</td>\n",
       "      <td>33736494.0</td>\n",
       "      <td>...</td>\n",
       "      <td>0.479</td>\n",
       "      <td>10.1</td>\n",
       "      <td>62</td>\n",
       "      <td>65.0</td>\n",
       "      <td>1154</td>\n",
       "      <td>19.1</td>\n",
       "      <td>83</td>\n",
       "      <td>6.0</td>\n",
       "      <td>65.0</td>\n",
       "      <td>0.1</td>\n",
       "    </tr>\n",
       "    <tr>\n",
       "      <th>1</th>\n",
       "      <td>Afghanistan</td>\n",
       "      <td>2014</td>\n",
       "      <td>Developing</td>\n",
       "      <td>59.9</td>\n",
       "      <td>271.0</td>\n",
       "      <td>0.01</td>\n",
       "      <td>73.523582</td>\n",
       "      <td>8.18</td>\n",
       "      <td>612.696514</td>\n",
       "      <td>327582.0</td>\n",
       "      <td>...</td>\n",
       "      <td>0.476</td>\n",
       "      <td>10.0</td>\n",
       "      <td>64</td>\n",
       "      <td>62.0</td>\n",
       "      <td>492</td>\n",
       "      <td>18.6</td>\n",
       "      <td>86</td>\n",
       "      <td>58.0</td>\n",
       "      <td>62.0</td>\n",
       "      <td>0.1</td>\n",
       "    </tr>\n",
       "    <tr>\n",
       "      <th>2</th>\n",
       "      <td>Afghanistan</td>\n",
       "      <td>2013</td>\n",
       "      <td>Developing</td>\n",
       "      <td>59.9</td>\n",
       "      <td>268.0</td>\n",
       "      <td>0.01</td>\n",
       "      <td>73.219243</td>\n",
       "      <td>8.13</td>\n",
       "      <td>631.744976</td>\n",
       "      <td>31731688.0</td>\n",
       "      <td>...</td>\n",
       "      <td>0.470</td>\n",
       "      <td>9.9</td>\n",
       "      <td>66</td>\n",
       "      <td>64.0</td>\n",
       "      <td>430</td>\n",
       "      <td>18.1</td>\n",
       "      <td>89</td>\n",
       "      <td>62.0</td>\n",
       "      <td>64.0</td>\n",
       "      <td>0.1</td>\n",
       "    </tr>\n",
       "    <tr>\n",
       "      <th>3</th>\n",
       "      <td>Afghanistan</td>\n",
       "      <td>2012</td>\n",
       "      <td>Developing</td>\n",
       "      <td>59.5</td>\n",
       "      <td>272.0</td>\n",
       "      <td>0.01</td>\n",
       "      <td>78.184215</td>\n",
       "      <td>8.52</td>\n",
       "      <td>669.959000</td>\n",
       "      <td>3696958.0</td>\n",
       "      <td>...</td>\n",
       "      <td>0.463</td>\n",
       "      <td>9.8</td>\n",
       "      <td>69</td>\n",
       "      <td>67.0</td>\n",
       "      <td>2787</td>\n",
       "      <td>17.6</td>\n",
       "      <td>93</td>\n",
       "      <td>67.0</td>\n",
       "      <td>67.0</td>\n",
       "      <td>0.1</td>\n",
       "    </tr>\n",
       "    <tr>\n",
       "      <th>4</th>\n",
       "      <td>Afghanistan</td>\n",
       "      <td>2011</td>\n",
       "      <td>Developing</td>\n",
       "      <td>59.2</td>\n",
       "      <td>275.0</td>\n",
       "      <td>0.01</td>\n",
       "      <td>7.097109</td>\n",
       "      <td>7.87</td>\n",
       "      <td>63.537231</td>\n",
       "      <td>2978599.0</td>\n",
       "      <td>...</td>\n",
       "      <td>0.454</td>\n",
       "      <td>9.5</td>\n",
       "      <td>71</td>\n",
       "      <td>68.0</td>\n",
       "      <td>3013</td>\n",
       "      <td>17.2</td>\n",
       "      <td>97</td>\n",
       "      <td>68.0</td>\n",
       "      <td>68.0</td>\n",
       "      <td>0.1</td>\n",
       "    </tr>\n",
       "  </tbody>\n",
       "</table>\n",
       "<p>5 rows × 22 columns</p>\n",
       "</div>"
      ],
      "text/plain": [
       "       Country  Year      Status  Life expectancy  Adult Mortality  Alcohol  \\\n",
       "0  Afghanistan  2015  Developing             65.0            263.0     0.01   \n",
       "1  Afghanistan  2014  Developing             59.9            271.0     0.01   \n",
       "2  Afghanistan  2013  Developing             59.9            268.0     0.01   \n",
       "3  Afghanistan  2012  Developing             59.5            272.0     0.01   \n",
       "4  Afghanistan  2011  Developing             59.2            275.0     0.01   \n",
       "\n",
       "   percentage expenditure  Total expenditure         GDP  Population  ...  \\\n",
       "0               71.279624               8.16  584.259210  33736494.0  ...   \n",
       "1               73.523582               8.18  612.696514    327582.0  ...   \n",
       "2               73.219243               8.13  631.744976  31731688.0  ...   \n",
       "3               78.184215               8.52  669.959000   3696958.0  ...   \n",
       "4                7.097109               7.87   63.537231   2978599.0  ...   \n",
       "\n",
       "   Income composition of resources  Schooling  infant deaths  Hepatitis B  \\\n",
       "0                            0.479       10.1             62         65.0   \n",
       "1                            0.476       10.0             64         62.0   \n",
       "2                            0.470        9.9             66         64.0   \n",
       "3                            0.463        9.8             69         67.0   \n",
       "4                            0.454        9.5             71         68.0   \n",
       "\n",
       "   Measles   BMI  under-five deaths  Polio  Diphtheria  HIV/AIDS  \n",
       "0     1154  19.1                 83    6.0        65.0       0.1  \n",
       "1      492  18.6                 86   58.0        62.0       0.1  \n",
       "2      430  18.1                 89   62.0        64.0       0.1  \n",
       "3     2787  17.6                 93   67.0        67.0       0.1  \n",
       "4     3013  17.2                 97   68.0        68.0       0.1  \n",
       "\n",
       "[5 rows x 22 columns]"
      ]
     },
     "execution_count": 60,
     "metadata": {},
     "output_type": "execute_result"
    }
   ],
   "source": [
    "df.head()"
   ]
  },
  {
   "cell_type": "markdown",
   "id": "74e61c8f",
   "metadata": {
    "papermill": {
     "duration": 0.131418,
     "end_time": "2022-02-27T06:47:03.213158",
     "exception": false,
     "start_time": "2022-02-27T06:47:03.081740",
     "status": "completed"
    },
    "tags": []
   },
   "source": [
    "country having minimum BMI"
   ]
  },
  {
   "cell_type": "code",
   "execution_count": 61,
   "id": "241fde7c",
   "metadata": {
    "execution": {
     "iopub.execute_input": "2022-02-27T06:47:03.498977Z",
     "iopub.status.busy": "2022-02-27T06:47:03.497916Z",
     "iopub.status.idle": "2022-02-27T06:47:03.510269Z",
     "shell.execute_reply": "2022-02-27T06:47:03.510857Z",
     "shell.execute_reply.started": "2022-02-27T05:49:16.872060Z"
    },
    "papermill": {
     "duration": 0.16579,
     "end_time": "2022-02-27T06:47:03.511045",
     "exception": false,
     "start_time": "2022-02-27T06:47:03.345255",
     "status": "completed"
    },
    "tags": []
   },
   "outputs": [
    {
     "data": {
      "text/html": [
       "<div>\n",
       "<style scoped>\n",
       "    .dataframe tbody tr th:only-of-type {\n",
       "        vertical-align: middle;\n",
       "    }\n",
       "\n",
       "    .dataframe tbody tr th {\n",
       "        vertical-align: top;\n",
       "    }\n",
       "\n",
       "    .dataframe thead th {\n",
       "        text-align: right;\n",
       "    }\n",
       "</style>\n",
       "<table border=\"1\" class=\"dataframe\">\n",
       "  <thead>\n",
       "    <tr style=\"text-align: right;\">\n",
       "      <th></th>\n",
       "      <th>Country</th>\n",
       "      <th>Year</th>\n",
       "      <th>Status</th>\n",
       "      <th>Life expectancy</th>\n",
       "      <th>Adult Mortality</th>\n",
       "      <th>Alcohol</th>\n",
       "      <th>percentage expenditure</th>\n",
       "      <th>Total expenditure</th>\n",
       "      <th>GDP</th>\n",
       "      <th>Population</th>\n",
       "      <th>...</th>\n",
       "      <th>Income composition of resources</th>\n",
       "      <th>Schooling</th>\n",
       "      <th>infant deaths</th>\n",
       "      <th>Hepatitis B</th>\n",
       "      <th>Measles</th>\n",
       "      <th>BMI</th>\n",
       "      <th>under-five deaths</th>\n",
       "      <th>Polio</th>\n",
       "      <th>Diphtheria</th>\n",
       "      <th>HIV/AIDS</th>\n",
       "    </tr>\n",
       "  </thead>\n",
       "  <tbody>\n",
       "    <tr>\n",
       "      <th>2887</th>\n",
       "      <td>Viet Nam</td>\n",
       "      <td>2002</td>\n",
       "      <td>Developing</td>\n",
       "      <td>73.8</td>\n",
       "      <td>137.0</td>\n",
       "      <td>2.03</td>\n",
       "      <td>0.0</td>\n",
       "      <td>4.7</td>\n",
       "      <td>1766.947595</td>\n",
       "      <td>1386542.0</td>\n",
       "      <td>...</td>\n",
       "      <td>0.584</td>\n",
       "      <td>10.7</td>\n",
       "      <td>30</td>\n",
       "      <td>92.0</td>\n",
       "      <td>6755</td>\n",
       "      <td>1.0</td>\n",
       "      <td>39</td>\n",
       "      <td>92.0</td>\n",
       "      <td>75.0</td>\n",
       "      <td>0.2</td>\n",
       "    </tr>\n",
       "  </tbody>\n",
       "</table>\n",
       "<p>1 rows × 22 columns</p>\n",
       "</div>"
      ],
      "text/plain": [
       "       Country  Year      Status  Life expectancy  Adult Mortality  Alcohol  \\\n",
       "2887  Viet Nam  2002  Developing             73.8            137.0     2.03   \n",
       "\n",
       "      percentage expenditure  Total expenditure          GDP  Population  ...  \\\n",
       "2887                     0.0                4.7  1766.947595   1386542.0  ...   \n",
       "\n",
       "      Income composition of resources  Schooling  infant deaths  Hepatitis B  \\\n",
       "2887                            0.584       10.7             30         92.0   \n",
       "\n",
       "      Measles  BMI  under-five deaths  Polio  Diphtheria  HIV/AIDS  \n",
       "2887     6755  1.0                 39   92.0        75.0       0.2  \n",
       "\n",
       "[1 rows x 22 columns]"
      ]
     },
     "execution_count": 61,
     "metadata": {},
     "output_type": "execute_result"
    }
   ],
   "source": [
    "\n",
    "df[df['BMI']==df['BMI'].min()][['Country', 'Status']]\n",
    "df[df['BMI']==df['BMI'].min()]"
   ]
  },
  {
   "cell_type": "markdown",
   "id": "91d82702",
   "metadata": {
    "papermill": {
     "duration": 0.151216,
     "end_time": "2022-02-27T06:47:03.794466",
     "exception": false,
     "start_time": "2022-02-27T06:47:03.643250",
     "status": "completed"
    },
    "tags": []
   },
   "source": [
    "country having maximum alcohol consumption"
   ]
  },
  {
   "cell_type": "code",
   "execution_count": 62,
   "id": "403d7dea",
   "metadata": {
    "execution": {
     "iopub.execute_input": "2022-02-27T06:47:04.079271Z",
     "iopub.status.busy": "2022-02-27T06:47:04.078571Z",
     "iopub.status.idle": "2022-02-27T06:47:04.081195Z",
     "shell.execute_reply": "2022-02-27T06:47:04.081679Z",
     "shell.execute_reply.started": "2022-02-27T05:50:17.760402Z"
    },
    "papermill": {
     "duration": 0.143727,
     "end_time": "2022-02-27T06:47:04.081867",
     "exception": false,
     "start_time": "2022-02-27T06:47:03.938140",
     "status": "completed"
    },
    "tags": []
   },
   "outputs": [
    {
     "data": {
      "text/plain": [
       "874    Estonia\n",
       "Name: Country, dtype: object"
      ]
     },
     "execution_count": 62,
     "metadata": {},
     "output_type": "execute_result"
    }
   ],
   "source": [
    "df[df['Alcohol'] == df['Alcohol'].max()]['Country']"
   ]
  },
  {
   "cell_type": "markdown",
   "id": "c35c5c0d",
   "metadata": {
    "papermill": {
     "duration": 0.131436,
     "end_time": "2022-02-27T06:47:04.345811",
     "exception": false,
     "start_time": "2022-02-27T06:47:04.214375",
     "status": "completed"
    },
    "tags": []
   },
   "source": [
    "countries having maximum Life Expectancy"
   ]
  },
  {
   "cell_type": "code",
   "execution_count": 63,
   "id": "255e083a",
   "metadata": {
    "execution": {
     "iopub.execute_input": "2022-02-27T06:47:04.613463Z",
     "iopub.status.busy": "2022-02-27T06:47:04.612801Z",
     "iopub.status.idle": "2022-02-27T06:47:04.619832Z",
     "shell.execute_reply": "2022-02-27T06:47:04.620366Z",
     "shell.execute_reply.started": "2022-02-27T05:51:43.948681Z"
    },
    "papermill": {
     "duration": 0.143132,
     "end_time": "2022-02-27T06:47:04.620549",
     "exception": false,
     "start_time": "2022-02-27T06:47:04.477417",
     "status": "completed"
    },
    "tags": []
   },
   "outputs": [
    {
     "data": {
      "text/plain": [
       "241         Belgium\n",
       "915         Finland\n",
       "937          France\n",
       "938          France\n",
       "995         Germany\n",
       "1293          Italy\n",
       "1850    New Zealand\n",
       "1916         Norway\n",
       "2056       Portugal\n",
       "2433          Spain\n",
       "2513         Sweden\n",
       "Name: Country, dtype: object"
      ]
     },
     "execution_count": 63,
     "metadata": {},
     "output_type": "execute_result"
    }
   ],
   "source": [
    "df[df['Life expectancy'] == df['Life expectancy'].max()]['Country']"
   ]
  },
  {
   "cell_type": "markdown",
   "id": "fdf1c1db",
   "metadata": {
    "papermill": {
     "duration": 0.134968,
     "end_time": "2022-02-27T06:47:04.889913",
     "exception": false,
     "start_time": "2022-02-27T06:47:04.754945",
     "status": "completed"
    },
    "tags": []
   },
   "source": [
    "Task2\n",
    "\n",
    "Explore the features with some group category.\n",
    "\n",
    "● You have to suggest a plan for distribution of GDP in health sectors also. Show the total GDP for Developing and Developed Countries.\n",
    "\n",
    "● Every country is worried about infant deaths happening each year. you are requested to show data for total infants' death for each year.\n",
    "\n",
    "● Each year we are getting the latest technologies to cure diseases. Despite that, there is an increasing trend in polio cases for each year. Show the number report on average cases of Polio in each year\n",
    "\n",
    "● Before closing, you are looking to conclude with the latest report. This report shows the avg. Life expectancy against Status for 2015 yr, where population > 10,00,000."
   ]
  },
  {
   "cell_type": "code",
   "execution_count": 64,
   "id": "f17c739b",
   "metadata": {
    "execution": {
     "iopub.execute_input": "2022-02-27T06:47:05.160863Z",
     "iopub.status.busy": "2022-02-27T06:47:05.159783Z",
     "iopub.status.idle": "2022-02-27T06:47:05.170672Z",
     "shell.execute_reply": "2022-02-27T06:47:05.171247Z",
     "shell.execute_reply.started": "2022-02-27T06:24:06.093175Z"
    },
    "papermill": {
     "duration": 0.147029,
     "end_time": "2022-02-27T06:47:05.171418",
     "exception": false,
     "start_time": "2022-02-27T06:47:05.024389",
     "status": "completed"
    },
    "tags": []
   },
   "outputs": [
    {
     "data": {
      "text/plain": [
       "Status\n",
       "Developed     9.993002e+06\n",
       "Developing    9.431655e+06\n",
       "Name: GDP, dtype: float64"
      ]
     },
     "execution_count": 64,
     "metadata": {},
     "output_type": "execute_result"
    }
   ],
   "source": [
    "df.groupby('Status').sum()['GDP']"
   ]
  },
  {
   "cell_type": "code",
   "execution_count": 65,
   "id": "9bd8c8bf",
   "metadata": {
    "execution": {
     "iopub.execute_input": "2022-02-27T06:47:05.443251Z",
     "iopub.status.busy": "2022-02-27T06:47:05.442233Z",
     "iopub.status.idle": "2022-02-27T06:47:05.452883Z",
     "shell.execute_reply": "2022-02-27T06:47:05.453415Z",
     "shell.execute_reply.started": "2022-02-27T06:26:12.618144Z"
    },
    "papermill": {
     "duration": 0.148936,
     "end_time": "2022-02-27T06:47:05.453613",
     "exception": false,
     "start_time": "2022-02-27T06:47:05.304677",
     "status": "completed"
    },
    "tags": []
   },
   "outputs": [
    {
     "data": {
      "text/plain": [
       "Year\n",
       "2000    6870\n",
       "2001    6739\n",
       "2002    6512\n",
       "2003    6382\n",
       "2004    6157\n",
       "2005    5923\n",
       "2006    5821\n",
       "2007    5602\n",
       "2008    5411\n",
       "2009    5299\n",
       "2010    5111\n",
       "2011    4910\n",
       "2012    4820\n",
       "2013    4626\n",
       "2014    4494\n",
       "2015    4356\n",
       "Name: infant deaths, dtype: int64"
      ]
     },
     "execution_count": 65,
     "metadata": {},
     "output_type": "execute_result"
    }
   ],
   "source": [
    "df.groupby('Year').sum()['infant deaths']"
   ]
  },
  {
   "cell_type": "code",
   "execution_count": 66,
   "id": "ed16dcad",
   "metadata": {
    "execution": {
     "iopub.execute_input": "2022-02-27T06:47:05.726375Z",
     "iopub.status.busy": "2022-02-27T06:47:05.725400Z",
     "iopub.status.idle": "2022-02-27T06:47:05.737433Z",
     "shell.execute_reply": "2022-02-27T06:47:05.738008Z",
     "shell.execute_reply.started": "2022-02-27T06:28:00.156677Z"
    },
    "papermill": {
     "duration": 0.149293,
     "end_time": "2022-02-27T06:47:05.738186",
     "exception": false,
     "start_time": "2022-02-27T06:47:05.588893",
     "status": "completed"
    },
    "tags": []
   },
   "outputs": [
    {
     "data": {
      "text/plain": [
       "Year  Status    \n",
       "2000  Developed     89.062500\n",
       "      Developing    73.900662\n",
       "2001  Developed     93.875000\n",
       "      Developing    74.874172\n",
       "2002  Developed     91.937500\n",
       "      Developing    77.258278\n",
       "2003  Developed     94.968750\n",
       "      Developing    77.423841\n",
       "2004  Developed     92.312500\n",
       "      Developing    77.761589\n",
       "2005  Developed     92.375000\n",
       "      Developing    78.715232\n",
       "2006  Developed     94.906250\n",
       "      Developing    82.384106\n",
       "2007  Developed     94.468750\n",
       "      Developing    82.807947\n",
       "2008  Developed     94.531250\n",
       "      Developing    83.715232\n",
       "2009  Developed     94.625000\n",
       "      Developing    83.410596\n",
       "2010  Developed     92.156250\n",
       "      Developing    82.198675\n",
       "2011  Developed     95.281250\n",
       "      Developing    82.145695\n",
       "2012  Developed     95.656250\n",
       "      Developing    81.456954\n",
       "2013  Developed     95.625000\n",
       "      Developing    82.459627\n",
       "2014  Developed     92.937500\n",
       "      Developing    82.986755\n",
       "2015  Developed     95.062500\n",
       "      Developing    80.695364\n",
       "Name: Polio, dtype: float64"
      ]
     },
     "execution_count": 66,
     "metadata": {},
     "output_type": "execute_result"
    }
   ],
   "source": [
    "df.groupby(['Year', 'Status']).mean()['Polio']"
   ]
  },
  {
   "cell_type": "code",
   "execution_count": 67,
   "id": "cf8ea684",
   "metadata": {
    "execution": {
     "iopub.execute_input": "2022-02-27T06:47:06.013517Z",
     "iopub.status.busy": "2022-02-27T06:47:06.012837Z",
     "iopub.status.idle": "2022-02-27T06:47:06.021582Z",
     "shell.execute_reply": "2022-02-27T06:47:06.022189Z",
     "shell.execute_reply.started": "2022-02-27T06:34:22.158657Z"
    },
    "papermill": {
     "duration": 0.148828,
     "end_time": "2022-02-27T06:47:06.022367",
     "exception": false,
     "start_time": "2022-02-27T06:47:05.873539",
     "status": "completed"
    },
    "tags": []
   },
   "outputs": [
    {
     "data": {
      "text/plain": [
       "Status\n",
       "Developed     80.330000\n",
       "Developing    69.874757\n",
       "Name: Life expectancy, dtype: float64"
      ]
     },
     "execution_count": 67,
     "metadata": {},
     "output_type": "execute_result"
    }
   ],
   "source": [
    "newdf = df.loc[(df['Year']==2015) & (df['Population']>1000000)]\n",
    "newdf.groupby('Status').mean()['Life expectancy']"
   ]
  }
 ],
 "metadata": {
  "kernelspec": {
   "display_name": "Python 3",
   "language": "python",
   "name": "python3"
  },
  "language_info": {
   "codemirror_mode": {
    "name": "ipython",
    "version": 3
   },
   "file_extension": ".py",
   "mimetype": "text/x-python",
   "name": "python",
   "nbconvert_exporter": "python",
   "pygments_lexer": "ipython3",
   "version": "3.7.12"
  },
  "papermill": {
   "default_parameters": {},
   "duration": 46.14175,
   "end_time": "2022-02-27T06:47:06.967695",
   "environment_variables": {},
   "exception": null,
   "input_path": "__notebook__.ipynb",
   "output_path": "__notebook__.ipynb",
   "parameters": {},
   "start_time": "2022-02-27T06:46:20.825945",
   "version": "2.3.3"
  }
 },
 "nbformat": 4,
 "nbformat_minor": 5
}
